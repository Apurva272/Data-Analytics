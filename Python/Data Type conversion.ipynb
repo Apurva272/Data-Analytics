{
 "cells": [
  {
   "cell_type": "markdown",
   "id": "8c066482-a6c8-46ef-9286-b8a6ced55b75",
   "metadata": {},
   "source": [
    "# Converting data types"
   ]
  },
  {
   "cell_type": "code",
   "execution_count": 1,
   "id": "f9f61f2e-6dca-4a1a-946f-c32dc92fe68f",
   "metadata": {},
   "outputs": [
    {
     "data": {
      "text/plain": [
       "int"
      ]
     },
     "execution_count": 1,
     "metadata": {},
     "output_type": "execute_result"
    }
   ],
   "source": [
    "num_int = 7\n",
    "type(num_int)"
   ]
  },
  {
   "cell_type": "code",
   "execution_count": 2,
   "id": "dd23df21-981d-4df1-a37e-6e863495fd08",
   "metadata": {},
   "outputs": [
    {
     "data": {
      "text/plain": [
       "str"
      ]
     },
     "execution_count": 2,
     "metadata": {},
     "output_type": "execute_result"
    }
   ],
   "source": [
    "num_str = '7'\n",
    "type(num_str)"
   ]
  },
  {
   "cell_type": "code",
   "execution_count": 3,
   "id": "29499d46-dd0d-4347-a90c-e6be20a2f4b5",
   "metadata": {},
   "outputs": [
    {
     "ename": "TypeError",
     "evalue": "unsupported operand type(s) for +: 'int' and 'str'",
     "output_type": "error",
     "traceback": [
      "\u001b[1;31m---------------------------------------------------------------------------\u001b[0m",
      "\u001b[1;31mTypeError\u001b[0m                                 Traceback (most recent call last)",
      "Cell \u001b[1;32mIn[3], line 1\u001b[0m\n\u001b[1;32m----> 1\u001b[0m num_sum \u001b[38;5;241m=\u001b[39m num_int\u001b[38;5;241m+\u001b[39mnum_str\n",
      "\u001b[1;31mTypeError\u001b[0m: unsupported operand type(s) for +: 'int' and 'str'"
     ]
    }
   ],
   "source": [
    "num_sum = num_int+num_str"
   ]
  },
  {
   "cell_type": "code",
   "execution_count": 4,
   "id": "0b473bc7-fb69-40ac-abe8-70d5aab15bbb",
   "metadata": {},
   "outputs": [],
   "source": [
    "num_str_conv = int(num_str)"
   ]
  },
  {
   "cell_type": "code",
   "execution_count": 5,
   "id": "626e01a3-a63a-44dd-b213-9ccb216dee2c",
   "metadata": {},
   "outputs": [
    {
     "data": {
      "text/plain": [
       "str"
      ]
     },
     "execution_count": 5,
     "metadata": {},
     "output_type": "execute_result"
    }
   ],
   "source": [
    "type(num_str)"
   ]
  },
  {
   "cell_type": "code",
   "execution_count": 3,
   "id": "6f75cc4a-4c60-43b0-90e8-c9e1a2117c74",
   "metadata": {},
   "outputs": [],
   "source": [
    "num_str =\"8\""
   ]
  },
  {
   "cell_type": "code",
   "execution_count": 4,
   "id": "f86f10b9-d4b2-4259-8173-b35507e959c6",
   "metadata": {},
   "outputs": [
    {
     "data": {
      "text/plain": [
       "int"
      ]
     },
     "execution_count": 4,
     "metadata": {},
     "output_type": "execute_result"
    }
   ],
   "source": [
    "num_str = int(num_str)\n",
    "type(num_str)"
   ]
  },
  {
   "cell_type": "code",
   "execution_count": 6,
   "id": "f57b4dcd-2430-4174-871f-c9c7f8a63d34",
   "metadata": {},
   "outputs": [
    {
     "data": {
      "text/plain": [
       "str"
      ]
     },
     "execution_count": 6,
     "metadata": {},
     "output_type": "execute_result"
    }
   ],
   "source": [
    "num_str_conv = int(num_str)\n",
    "type(num_str)"
   ]
  },
  {
   "cell_type": "code",
   "execution_count": 7,
   "id": "0064ccde-2d2e-45c9-9a36-2af31db1a0dc",
   "metadata": {},
   "outputs": [
    {
     "data": {
      "text/plain": [
       "int"
      ]
     },
     "execution_count": 7,
     "metadata": {},
     "output_type": "execute_result"
    }
   ],
   "source": [
    "type(num_str_conv)"
   ]
  },
  {
   "cell_type": "code",
   "execution_count": 8,
   "id": "c27c44fe-bef1-45ed-8774-3b3e05767ca3",
   "metadata": {},
   "outputs": [],
   "source": [
    "num_sum = num_int+num_str_conv"
   ]
  },
  {
   "cell_type": "code",
   "execution_count": 9,
   "id": "a5e6eb13-554d-494a-a951-5df6d68eda75",
   "metadata": {},
   "outputs": [
    {
     "name": "stdout",
     "output_type": "stream",
     "text": [
      "14\n"
     ]
    }
   ],
   "source": [
    "print(num_sum)"
   ]
  },
  {
   "cell_type": "markdown",
   "id": "53dbfd27-1148-4b9e-8560-8b5245eb38b2",
   "metadata": {},
   "source": [
    "# convert lists, sets, tuples"
   ]
  },
  {
   "cell_type": "code",
   "execution_count": 10,
   "id": "5c1b5f64-0eb9-4b65-a81a-82df5a64b3bf",
   "metadata": {},
   "outputs": [
    {
     "data": {
      "text/plain": [
       "list"
      ]
     },
     "execution_count": 10,
     "metadata": {},
     "output_type": "execute_result"
    }
   ],
   "source": [
    "list_type = [1,2,3]\n",
    "type(list_type)"
   ]
  },
  {
   "cell_type": "code",
   "execution_count": 11,
   "id": "a9e7813f-0ef5-4548-ab2e-f5a872f596ff",
   "metadata": {},
   "outputs": [
    {
     "data": {
      "text/plain": [
       "tuple"
      ]
     },
     "execution_count": 11,
     "metadata": {},
     "output_type": "execute_result"
    }
   ],
   "source": [
    "type(tuple(list_type))"
   ]
  },
  {
   "cell_type": "code",
   "execution_count": 12,
   "id": "f6d04d34-98b5-4a1b-b51e-912505dcd6db",
   "metadata": {},
   "outputs": [],
   "source": [
    "list_type = [1,2,3,3,2,1,2,3,2,1]"
   ]
  },
  {
   "cell_type": "code",
   "execution_count": 13,
   "id": "5a98bb6c-a0b0-4535-a90a-1f77c2ef9bbb",
   "metadata": {},
   "outputs": [
    {
     "data": {
      "text/plain": [
       "{1, 2, 3}"
      ]
     },
     "execution_count": 13,
     "metadata": {},
     "output_type": "execute_result"
    }
   ],
   "source": [
    "set(list_type)"
   ]
  },
  {
   "cell_type": "code",
   "execution_count": 14,
   "id": "f743ae21-c1f6-4bd3-9616-9050f449a47e",
   "metadata": {},
   "outputs": [
    {
     "data": {
      "text/plain": [
       "list"
      ]
     },
     "execution_count": 14,
     "metadata": {},
     "output_type": "execute_result"
    }
   ],
   "source": [
    "type(list_type)"
   ]
  },
  {
   "cell_type": "code",
   "execution_count": 15,
   "id": "6c05c855-e49a-43ac-b8b5-5eb0e0e14901",
   "metadata": {},
   "outputs": [],
   "source": [
    "dict_type = {'name': 'Apurva','age': 25,'criteria': 'succesful'}"
   ]
  },
  {
   "cell_type": "code",
   "execution_count": 16,
   "id": "8234d4ff-2ed5-4ce9-b78c-7765a8237833",
   "metadata": {},
   "outputs": [
    {
     "data": {
      "text/plain": [
       "dict"
      ]
     },
     "execution_count": 16,
     "metadata": {},
     "output_type": "execute_result"
    }
   ],
   "source": [
    "type(dict_type)"
   ]
  },
  {
   "cell_type": "code",
   "execution_count": 17,
   "id": "48617873-72ff-44b9-b774-ce7d2d94e96b",
   "metadata": {},
   "outputs": [
    {
     "data": {
      "text/plain": [
       "dict_items([('name', 'Apurva'), ('age', 25), ('criteria', 'succesful')])"
      ]
     },
     "execution_count": 17,
     "metadata": {},
     "output_type": "execute_result"
    }
   ],
   "source": [
    "dict_type.items()"
   ]
  },
  {
   "cell_type": "code",
   "execution_count": 18,
   "id": "1dc6f495-f301-4729-9cfd-f2ffbb8e29ff",
   "metadata": {},
   "outputs": [
    {
     "data": {
      "text/plain": [
       "dict_values(['Apurva', 25, 'succesful'])"
      ]
     },
     "execution_count": 18,
     "metadata": {},
     "output_type": "execute_result"
    }
   ],
   "source": [
    "dict_type.values()"
   ]
  },
  {
   "cell_type": "code",
   "execution_count": 19,
   "id": "d576ed97-b677-495b-a8ac-6d4ee0f87d30",
   "metadata": {},
   "outputs": [
    {
     "data": {
      "text/plain": [
       "dict_keys(['name', 'age', 'criteria'])"
      ]
     },
     "execution_count": 19,
     "metadata": {},
     "output_type": "execute_result"
    }
   ],
   "source": [
    "dict_type.keys()"
   ]
  },
  {
   "cell_type": "code",
   "execution_count": 20,
   "id": "58a4d49c-23a9-4ecb-8477-34bb558b6473",
   "metadata": {},
   "outputs": [
    {
     "data": {
      "text/plain": [
       "['name', 'age', 'criteria']"
      ]
     },
     "execution_count": 20,
     "metadata": {},
     "output_type": "execute_result"
    }
   ],
   "source": [
    "list(dict_type.keys())"
   ]
  },
  {
   "cell_type": "code",
   "execution_count": 21,
   "id": "4352147e-0302-4248-aa1f-56f355bf7453",
   "metadata": {},
   "outputs": [
    {
     "data": {
      "text/plain": [
       "['Apurva', 25, 'succesful']"
      ]
     },
     "execution_count": 21,
     "metadata": {},
     "output_type": "execute_result"
    }
   ],
   "source": [
    "list(dict_type.values())"
   ]
  },
  {
   "cell_type": "code",
   "execution_count": 22,
   "id": "1ab1ba66-9605-434a-a86c-536ed20214a9",
   "metadata": {},
   "outputs": [],
   "source": [
    "long_str = \"I like to party\""
   ]
  },
  {
   "cell_type": "code",
   "execution_count": 23,
   "id": "a194798b-3e76-4433-ab53-6bdbdc01d522",
   "metadata": {},
   "outputs": [
    {
     "data": {
      "text/plain": [
       "['I', ' ', 'l', 'i', 'k', 'e', ' ', 't', 'o', ' ', 'p', 'a', 'r', 't', 'y']"
      ]
     },
     "execution_count": 23,
     "metadata": {},
     "output_type": "execute_result"
    }
   ],
   "source": [
    "list(long_str)"
   ]
  },
  {
   "cell_type": "code",
   "execution_count": 26,
   "id": "370691bb-10dc-417f-85e0-f9058d7f9443",
   "metadata": {},
   "outputs": [],
   "source": [
    "x = set(long_str)"
   ]
  },
  {
   "cell_type": "code",
   "execution_count": 25,
   "id": "1183a98c-8831-411d-a6e0-a1702849b0b7",
   "metadata": {},
   "outputs": [
    {
     "data": {
      "text/plain": [
       "str"
      ]
     },
     "execution_count": 25,
     "metadata": {},
     "output_type": "execute_result"
    }
   ],
   "source": [
    "type(long_str)"
   ]
  },
  {
   "cell_type": "code",
   "execution_count": 27,
   "id": "350e96f2-af62-4bed-80e3-b7c566d6424c",
   "metadata": {},
   "outputs": [
    {
     "data": {
      "text/plain": [
       "set"
      ]
     },
     "execution_count": 27,
     "metadata": {},
     "output_type": "execute_result"
    }
   ],
   "source": [
    "type(x)"
   ]
  },
  {
   "cell_type": "code",
   "execution_count": 28,
   "id": "b39076c8-8220-479f-bf43-b49bbeea1093",
   "metadata": {},
   "outputs": [
    {
     "name": "stdout",
     "output_type": "stream",
     "text": [
      "{'t', 'k', 'o', 'a', 'r', 'y', 'e', ' ', 'l', 'p', 'I', 'i'}\n"
     ]
    }
   ],
   "source": [
    "print(x)"
   ]
  },
  {
   "cell_type": "code",
   "execution_count": null,
   "id": "112abde1-118b-4383-b7b3-27ef434e0fa6",
   "metadata": {},
   "outputs": [],
   "source": []
  }
 ],
 "metadata": {
  "kernelspec": {
   "display_name": "Python 3 (ipykernel)",
   "language": "python",
   "name": "python3"
  },
  "language_info": {
   "codemirror_mode": {
    "name": "ipython",
    "version": 3
   },
   "file_extension": ".py",
   "mimetype": "text/x-python",
   "name": "python",
   "nbconvert_exporter": "python",
   "pygments_lexer": "ipython3",
   "version": "3.12.7"
  }
 },
 "nbformat": 4,
 "nbformat_minor": 5
}
