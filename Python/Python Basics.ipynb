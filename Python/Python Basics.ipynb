{
 "cells": [
  {
   "cell_type": "markdown",
   "id": "2955ebc5-0b06-4bb0-8029-971c8632ef6d",
   "metadata": {},
   "source": [
    "# Variables in Python"
   ]
  },
  {
   "cell_type": "code",
   "execution_count": 1,
   "id": "1bffb1f1-bd46-4f25-ab3a-52b887527bc9",
   "metadata": {},
   "outputs": [],
   "source": [
    "x = 27"
   ]
  },
  {
   "cell_type": "code",
   "execution_count": 2,
   "id": "65232893-2175-4ce6-a7cd-f3584827884c",
   "metadata": {},
   "outputs": [
    {
     "name": "stdout",
     "output_type": "stream",
     "text": [
      "27\n"
     ]
    }
   ],
   "source": [
    "print(x)"
   ]
  },
  {
   "cell_type": "code",
   "execution_count": 3,
   "id": "5ff28b62-8522-4a66-ad49-483006c0f2cd",
   "metadata": {},
   "outputs": [
    {
     "data": {
      "text/plain": [
       "int"
      ]
     },
     "execution_count": 3,
     "metadata": {},
     "output_type": "execute_result"
    }
   ],
   "source": [
    "type(x)"
   ]
  },
  {
   "cell_type": "code",
   "execution_count": 4,
   "id": "deb9bcf1-4ea2-4f73-96b5-f74ee652d890",
   "metadata": {},
   "outputs": [],
   "source": [
    "y = 'Hot cocoa'"
   ]
  },
  {
   "cell_type": "code",
   "execution_count": 5,
   "id": "cfeffcc9-0e64-4f88-929d-6f8ce00d0c5f",
   "metadata": {},
   "outputs": [
    {
     "data": {
      "text/plain": [
       "str"
      ]
     },
     "execution_count": 5,
     "metadata": {},
     "output_type": "execute_result"
    }
   ],
   "source": [
    "type(y)"
   ]
  },
  {
   "cell_type": "code",
   "execution_count": 8,
   "id": "410971f0-1402-4e71-a035-d7f01f576811",
   "metadata": {},
   "outputs": [
    {
     "name": "stdout",
     "output_type": "stream",
     "text": [
      "Hot cocoa\n"
     ]
    }
   ],
   "source": [
    "y = 'by the way special hot chocolate' \n",
    "y = 'Hot cocoa'\n",
    "print(y)"
   ]
  },
  {
   "cell_type": "code",
   "execution_count": 9,
   "id": "80fd06d1-5f3f-4190-b09e-54b48008f1b3",
   "metadata": {},
   "outputs": [
    {
     "name": "stdout",
     "output_type": "stream",
     "text": [
      "Chocolate\n",
      "Vanilla\n",
      "22\n"
     ]
    }
   ],
   "source": [
    "x,y,z = 'Chocolate','Vanilla', 22\n",
    "print(x)\n",
    "print(y)\n",
    "print(z)"
   ]
  },
  {
   "cell_type": "code",
   "execution_count": 10,
   "id": "4a1f6b08-6259-433f-85be-9fd9630dfeb9",
   "metadata": {},
   "outputs": [
    {
     "name": "stdout",
     "output_type": "stream",
     "text": [
      "77\n",
      "77\n",
      "77\n"
     ]
    }
   ],
   "source": [
    "x = y = z = 77\n",
    "print(x)\n",
    "print(y)\n",
    "print(z)"
   ]
  },
  {
   "cell_type": "code",
   "execution_count": 11,
   "id": "bd05c5b4-d10f-450a-b7d2-8c7e4c46a324",
   "metadata": {},
   "outputs": [
    {
     "name": "stdout",
     "output_type": "stream",
     "text": [
      "Chocolate\n",
      "Vanilla\n",
      "Mint choco chip\n"
     ]
    }
   ],
   "source": [
    "ice_cream = ['Chocolate','Vanilla','Mint choco chip']\n",
    "x,y,z = ice_cream\n",
    "print(x)\n",
    "print(y)\n",
    "print(z)"
   ]
  },
  {
   "cell_type": "code",
   "execution_count": 14,
   "id": "89b4536b-2005-447d-8477-5ac4f5660483",
   "metadata": {},
   "outputs": [
    {
     "name": "stdout",
     "output_type": "stream",
     "text": [
      "Ice cream Chillin Chillin\n"
     ]
    }
   ],
   "source": [
    "a = 'Ice cream' +' '+ 'Chillin Chillin'\n",
    "print(a)"
   ]
  },
  {
   "cell_type": "code",
   "execution_count": 15,
   "id": "1c16ea26-703c-4316-92ca-885bdf819f58",
   "metadata": {},
   "outputs": [
    {
     "name": "stdout",
     "output_type": "stream",
     "text": [
      "55\n"
     ]
    }
   ],
   "source": [
    "b = 22+33\n",
    "print(b)"
   ]
  },
  {
   "cell_type": "code",
   "execution_count": 17,
   "id": "9ab8513f-6577-4d8f-8257-2af1689012e5",
   "metadata": {},
   "outputs": [
    {
     "name": "stdout",
     "output_type": "stream",
     "text": [
      "Hello, my name is Apurva. I will become a data analyst soon in 2025.\n"
     ]
    }
   ],
   "source": [
    "x = 'Hello, my name is Apurva.'\n",
    "y = ' I will become a data analyst soon'\n",
    "z = ' in 2025.'\n",
    "print(x+y+z)"
   ]
  },
  {
   "cell_type": "code",
   "execution_count": 19,
   "id": "54b58228-4440-4d63-9737-5f75dbf7c386",
   "metadata": {},
   "outputs": [
    {
     "name": "stdout",
     "output_type": "stream",
     "text": [
      "20\n"
     ]
    }
   ],
   "source": [
    "x = 10\n",
    "y = -20\n",
    "z = 30\n",
    "print(x+y+z)"
   ]
  },
  {
   "cell_type": "code",
   "execution_count": 20,
   "id": "ca94ebf1-079f-4546-bb97-20a4aff9696e",
   "metadata": {},
   "outputs": [
    {
     "name": "stdout",
     "output_type": "stream",
     "text": [
      "Data Analyst 2025\n"
     ]
    }
   ],
   "source": [
    "x = \"Data Analyst\"\n",
    "y = 2025\n",
    "print(x,y)"
   ]
  },
  {
   "cell_type": "markdown",
   "id": "f4da3fee-f8d7-4e23-b4a2-32908d8d46a4",
   "metadata": {},
   "source": [
    "# Data types"
   ]
  },
  {
   "cell_type": "code",
   "execution_count": 21,
   "id": "16c6ce77-412f-4d9e-8ad9-5dd0cd41f6c8",
   "metadata": {},
   "outputs": [
    {
     "data": {
      "text/plain": [
       "int"
      ]
     },
     "execution_count": 21,
     "metadata": {},
     "output_type": "execute_result"
    }
   ],
   "source": [
    "type(-100+12)"
   ]
  },
  {
   "cell_type": "code",
   "execution_count": 22,
   "id": "20eae547-2587-4f87-8011-2c3acbc46805",
   "metadata": {},
   "outputs": [
    {
     "data": {
      "text/plain": [
       "float"
      ]
     },
     "execution_count": 22,
     "metadata": {},
     "output_type": "execute_result"
    }
   ],
   "source": [
    "type(10+11.24)"
   ]
  },
  {
   "cell_type": "code",
   "execution_count": 23,
   "id": "6dc00845-c340-4cbc-b50d-08b85ee5cfb4",
   "metadata": {},
   "outputs": [
    {
     "ename": "SyntaxError",
     "evalue": "invalid decimal literal (3461672336.py, line 1)",
     "output_type": "error",
     "traceback": [
      "\u001b[1;36m  Cell \u001b[1;32mIn[23], line 1\u001b[1;36m\u001b[0m\n\u001b[1;33m    type(12+3i)\u001b[0m\n\u001b[1;37m            ^\u001b[0m\n\u001b[1;31mSyntaxError\u001b[0m\u001b[1;31m:\u001b[0m invalid decimal literal\n"
     ]
    }
   ],
   "source": [
    "type(12+3i)"
   ]
  },
  {
   "cell_type": "code",
   "execution_count": 24,
   "id": "a06c8ee4-93b3-45db-90a7-9a5f87318640",
   "metadata": {},
   "outputs": [
    {
     "data": {
      "text/plain": [
       "complex"
      ]
     },
     "execution_count": 24,
     "metadata": {},
     "output_type": "execute_result"
    }
   ],
   "source": [
    "type(12+3j)"
   ]
  },
  {
   "cell_type": "code",
   "execution_count": 25,
   "id": "9117732c-610c-4501-b23b-ff4da4504fd6",
   "metadata": {},
   "outputs": [],
   "source": [
    "#Boolean"
   ]
  },
  {
   "cell_type": "code",
   "execution_count": 26,
   "id": "0548cccc-408d-430f-ad75-6a44c80a4e76",
   "metadata": {},
   "outputs": [
    {
     "ename": "NameError",
     "evalue": "name 'true' is not defined",
     "output_type": "error",
     "traceback": [
      "\u001b[1;31m---------------------------------------------------------------------------\u001b[0m",
      "\u001b[1;31mNameError\u001b[0m                                 Traceback (most recent call last)",
      "Cell \u001b[1;32mIn[26], line 1\u001b[0m\n\u001b[1;32m----> 1\u001b[0m \u001b[38;5;28mtype\u001b[39m(true)\n",
      "\u001b[1;31mNameError\u001b[0m: name 'true' is not defined"
     ]
    }
   ],
   "source": [
    "type(true)"
   ]
  },
  {
   "cell_type": "code",
   "execution_count": 27,
   "id": "98559571-115a-4699-a223-d69222e4dadc",
   "metadata": {},
   "outputs": [
    {
     "data": {
      "text/plain": [
       "bool"
      ]
     },
     "execution_count": 27,
     "metadata": {},
     "output_type": "execute_result"
    }
   ],
   "source": [
    "type(True)"
   ]
  },
  {
   "cell_type": "code",
   "execution_count": 28,
   "id": "38857bba-94d5-4ae1-896f-f5fc734c31bf",
   "metadata": {},
   "outputs": [
    {
     "data": {
      "text/plain": [
       "bool"
      ]
     },
     "execution_count": 28,
     "metadata": {},
     "output_type": "execute_result"
    }
   ],
   "source": [
    "type(False)"
   ]
  },
  {
   "cell_type": "code",
   "execution_count": 29,
   "id": "bcdf5b6e-31e3-43ec-8e4d-46d76c64b78f",
   "metadata": {},
   "outputs": [
    {
     "data": {
      "text/plain": [
       "bool"
      ]
     },
     "execution_count": 29,
     "metadata": {},
     "output_type": "execute_result"
    }
   ],
   "source": [
    "type(1>5)"
   ]
  },
  {
   "cell_type": "code",
   "execution_count": 30,
   "id": "2ce35764-2e2a-4731-9283-a6cec69a0947",
   "metadata": {},
   "outputs": [
    {
     "data": {
      "text/plain": [
       "False"
      ]
     },
     "execution_count": 30,
     "metadata": {},
     "output_type": "execute_result"
    }
   ],
   "source": [
    "1>5"
   ]
  },
  {
   "cell_type": "code",
   "execution_count": 31,
   "id": "df76b880-1c60-4a3a-af91-c75306383fb3",
   "metadata": {},
   "outputs": [
    {
     "data": {
      "text/plain": [
       "True"
      ]
     },
     "execution_count": 31,
     "metadata": {},
     "output_type": "execute_result"
    }
   ],
   "source": [
    "1==1"
   ]
  },
  {
   "cell_type": "code",
   "execution_count": 32,
   "id": "4b60002e-b3d5-4c7e-b3bc-08bf258ab447",
   "metadata": {},
   "outputs": [
    {
     "data": {
      "text/plain": [
       "'Single Quote'"
      ]
     },
     "execution_count": 32,
     "metadata": {},
     "output_type": "execute_result"
    }
   ],
   "source": [
    "#Strings\n",
    "'Single Quote'"
   ]
  },
  {
   "cell_type": "code",
   "execution_count": 33,
   "id": "97ab5286-8874-4dd4-8b58-50101567e1a3",
   "metadata": {},
   "outputs": [
    {
     "data": {
      "text/plain": [
       "'Double quote'"
      ]
     },
     "execution_count": 33,
     "metadata": {},
     "output_type": "execute_result"
    }
   ],
   "source": [
    "\"Double quote\""
   ]
  },
  {
   "cell_type": "code",
   "execution_count": 34,
   "id": "35839678-62fb-4571-ab6e-0ae782b14a34",
   "metadata": {},
   "outputs": [
    {
     "ename": "SyntaxError",
     "evalue": "unterminated string literal (detected at line 1) (1787343665.py, line 1)",
     "output_type": "error",
     "traceback": [
      "\u001b[1;36m  Cell \u001b[1;32mIn[34], line 1\u001b[1;36m\u001b[0m\n\u001b[1;33m    \" \" \"\u001b[0m\n\u001b[1;37m        ^\u001b[0m\n\u001b[1;31mSyntaxError\u001b[0m\u001b[1;31m:\u001b[0m unterminated string literal (detected at line 1)\n"
     ]
    }
   ],
   "source": [
    "\" \" \"\n",
    "The ice cream van arrives\n",
    "I look on the other side\n",
    "The day is brighter outside\n",
    "I have to go \n",
    "\" \" \""
   ]
  },
  {
   "cell_type": "code",
   "execution_count": 35,
   "id": "1a782097-389f-44e7-a958-8f60ea271f7f",
   "metadata": {},
   "outputs": [
    {
     "data": {
      "text/plain": [
       "'\\nThe ice cream van arrives\\nI look on the other side\\nThe day is brighter outside\\nI have to go \\n'"
      ]
     },
     "execution_count": 35,
     "metadata": {},
     "output_type": "execute_result"
    }
   ],
   "source": [
    "multiline = \"\"\"\n",
    "The ice cream van arrives\n",
    "I look on the other side\n",
    "The day is brighter outside\n",
    "I have to go \n",
    "\"\"\""
   ]
  },
  {
   "cell_type": "code",
   "execution_count": 36,
   "id": "30b52586-9408-4071-a53e-2f9449a87c6c",
   "metadata": {},
   "outputs": [
    {
     "ename": "NameError",
     "evalue": "name 'multiline_strings' is not defined",
     "output_type": "error",
     "traceback": [
      "\u001b[1;31m---------------------------------------------------------------------------\u001b[0m",
      "\u001b[1;31mNameError\u001b[0m                                 Traceback (most recent call last)",
      "Cell \u001b[1;32mIn[36], line 1\u001b[0m\n\u001b[1;32m----> 1\u001b[0m \u001b[38;5;28mprint\u001b[39m(multiline_strings)\n",
      "\u001b[1;31mNameError\u001b[0m: name 'multiline_strings' is not defined"
     ]
    }
   ],
   "source": [
    "print(multiline_strings)"
   ]
  },
  {
   "cell_type": "code",
   "execution_count": 37,
   "id": "59a4a05c-d1f1-4afb-aef6-f4cbd7c4143f",
   "metadata": {},
   "outputs": [
    {
     "ename": "NameError",
     "evalue": "name 'multiline' is not defined",
     "output_type": "error",
     "traceback": [
      "\u001b[1;31m---------------------------------------------------------------------------\u001b[0m",
      "\u001b[1;31mNameError\u001b[0m                                 Traceback (most recent call last)",
      "Cell \u001b[1;32mIn[37], line 1\u001b[0m\n\u001b[1;32m----> 1\u001b[0m \u001b[38;5;28mprint\u001b[39m(multiline)\n",
      "\u001b[1;31mNameError\u001b[0m: name 'multiline' is not defined"
     ]
    }
   ],
   "source": [
    "print(multiline)"
   ]
  },
  {
   "cell_type": "code",
   "execution_count": 39,
   "id": "0209d3e8-b428-47a8-b526-3b55057c7666",
   "metadata": {},
   "outputs": [
    {
     "name": "stdout",
     "output_type": "stream",
     "text": [
      "\n",
      "The ice cream van arrives\n",
      "I look on the other side\n",
      "The day is brighter outside\n",
      "I have to go \n",
      "\n"
     ]
    }
   ],
   "source": [
    "multiline = \"\"\"\n",
    "The ice cream van arrives\n",
    "I look on the other side\n",
    "The day is brighter outside\n",
    "I have to go \n",
    "\"\"\"\n",
    "print(multiline)"
   ]
  },
  {
   "cell_type": "code",
   "execution_count": 40,
   "id": "25a5a206-adee-406f-9944-32f3c4490d00",
   "metadata": {},
   "outputs": [
    {
     "data": {
      "text/plain": [
       "str"
      ]
     },
     "execution_count": 40,
     "metadata": {},
     "output_type": "execute_result"
    }
   ],
   "source": [
    "type(multiline)"
   ]
  },
  {
   "cell_type": "code",
   "execution_count": 41,
   "id": "3b71fcf3-b7fc-46e4-a8a6-d201e4bfd618",
   "metadata": {},
   "outputs": [
    {
     "name": "stdout",
     "output_type": "stream",
     "text": [
      "\n",
      "The ice cream van arrives\n",
      "I look on the other side\n",
      "The day is brighter outside\n",
      "I have to go \n",
      "\n"
     ]
    }
   ],
   "source": [
    "print(multiline)"
   ]
  },
  {
   "cell_type": "code",
   "execution_count": 44,
   "id": "a901d6fe-2a5e-4dea-8ba1-e135bdcda243",
   "metadata": {},
   "outputs": [
    {
     "name": "stdout",
     "output_type": "stream",
     "text": [
      " \n"
     ]
    }
   ],
   "source": [
    "#indexing in a string\n",
    "a = 'Hello World!'\n",
    "print(a[5])"
   ]
  },
  {
   "cell_type": "code",
   "execution_count": 45,
   "id": "7ae7d2a8-f702-4e33-928d-db1e08d00665",
   "metadata": {},
   "outputs": [
    {
     "name": "stdout",
     "output_type": "stream",
     "text": [
      " \n"
     ]
    }
   ],
   "source": [
    "a = 'Hello World!'\n",
    "print(a[5])"
   ]
  },
  {
   "cell_type": "code",
   "execution_count": 46,
   "id": "d40692b7-1f82-4c80-9a32-a3236b01aa95",
   "metadata": {},
   "outputs": [
    {
     "data": {
      "text/plain": [
       "str"
      ]
     },
     "execution_count": 46,
     "metadata": {},
     "output_type": "execute_result"
    }
   ],
   "source": [
    "type(a)"
   ]
  },
  {
   "cell_type": "code",
   "execution_count": 47,
   "id": "74bc672a-370f-4da5-b875-63944394bfc8",
   "metadata": {},
   "outputs": [
    {
     "name": "stdout",
     "output_type": "stream",
     "text": [
      "Hello World!\n"
     ]
    }
   ],
   "source": [
    "print(a)"
   ]
  },
  {
   "cell_type": "code",
   "execution_count": 65,
   "id": "7a46f42e-a923-495f-986b-a579eace47f6",
   "metadata": {},
   "outputs": [
    {
     "ename": "TypeError",
     "evalue": "'str' object does not support item assignment",
     "output_type": "error",
     "traceback": [
      "\u001b[1;31m---------------------------------------------------------------------------\u001b[0m",
      "\u001b[1;31mTypeError\u001b[0m                                 Traceback (most recent call last)",
      "Cell \u001b[1;32mIn[65], line 1\u001b[0m\n\u001b[1;32m----> 1\u001b[0m a[\u001b[38;5;241m0\u001b[39m] \u001b[38;5;241m=\u001b[39m \u001b[38;5;124m'\u001b[39m\u001b[38;5;124mB\u001b[39m\u001b[38;5;124m'\u001b[39m\n\u001b[0;32m      2\u001b[0m \u001b[38;5;28mprint\u001b[39m (a)\n",
      "\u001b[1;31mTypeError\u001b[0m: 'str' object does not support item assignment"
     ]
    }
   ],
   "source": [
    "a[0] = 'B'\n",
    "print (a)"
   ]
  },
  {
   "cell_type": "raw",
   "id": "7f3cb395-ee03-4e1e-8fdf-abdd897375fa",
   "metadata": {},
   "source": [
    "a[0] = 'B'\n",
    "print (a)"
   ]
  },
  {
   "cell_type": "code",
   "execution_count": 48,
   "id": "8810c210-f8ff-479b-9332-a4037d7b4174",
   "metadata": {},
   "outputs": [
    {
     "name": "stdout",
     "output_type": "stream",
     "text": [
      "W\n"
     ]
    }
   ],
   "source": [
    "print (a[6])"
   ]
  },
  {
   "cell_type": "code",
   "execution_count": 49,
   "id": "eee60696-9e7c-4693-a8ac-91b46d8b8a38",
   "metadata": {},
   "outputs": [
    {
     "name": "stdout",
     "output_type": "stream",
     "text": [
      "Hello\n"
     ]
    }
   ],
   "source": [
    "print (a[0:5])"
   ]
  },
  {
   "cell_type": "code",
   "execution_count": 50,
   "id": "a7f6ba75-68b6-444b-810b-ad49b681e8ab",
   "metadata": {},
   "outputs": [
    {
     "name": "stdout",
     "output_type": "stream",
     "text": [
      " \n"
     ]
    }
   ],
   "source": [
    "print (a[5])"
   ]
  },
  {
   "cell_type": "code",
   "execution_count": 51,
   "id": "af9090a8-b06f-4c3a-af24-948458b4ea77",
   "metadata": {},
   "outputs": [
    {
     "name": "stdout",
     "output_type": "stream",
     "text": [
      "o\n"
     ]
    }
   ],
   "source": [
    "print (a[4])"
   ]
  },
  {
   "cell_type": "code",
   "execution_count": 52,
   "id": "5841a80f-c04a-4e8f-a633-7f3b7789a380",
   "metadata": {},
   "outputs": [
    {
     "data": {
      "text/plain": [
       "'Hello World!Hello World!Hello World!'"
      ]
     },
     "execution_count": 52,
     "metadata": {},
     "output_type": "execute_result"
    }
   ],
   "source": [
    "a*3"
   ]
  },
  {
   "cell_type": "code",
   "execution_count": 53,
   "id": "14545b9e-d76c-4ead-8ffd-cb8aa6b91cfe",
   "metadata": {},
   "outputs": [
    {
     "data": {
      "text/plain": [
       "'Hello World!Hello World!'"
      ]
     },
     "execution_count": 53,
     "metadata": {},
     "output_type": "execute_result"
    }
   ],
   "source": [
    "a + a"
   ]
  },
  {
   "cell_type": "markdown",
   "id": "e3813bc1-5de3-4270-b6fd-07131fef80fb",
   "metadata": {},
   "source": [
    "# Lists"
   ]
  },
  {
   "cell_type": "code",
   "execution_count": 54,
   "id": "cb66c257-66ac-4bf8-b850-8b808f6abce3",
   "metadata": {},
   "outputs": [
    {
     "data": {
      "text/plain": [
       "[1, 2, 3]"
      ]
     },
     "execution_count": 54,
     "metadata": {},
     "output_type": "execute_result"
    }
   ],
   "source": [
    "[1,2,3]"
   ]
  },
  {
   "cell_type": "code",
   "execution_count": 55,
   "id": "09010d9e-64f2-45b5-9b00-c60e62b10aaf",
   "metadata": {},
   "outputs": [
    {
     "data": {
      "text/plain": [
       "['cookie', 'strawberry', 'chocolate']"
      ]
     },
     "execution_count": 55,
     "metadata": {},
     "output_type": "execute_result"
    }
   ],
   "source": [
    "['cookie','strawberry','chocolate']"
   ]
  },
  {
   "cell_type": "code",
   "execution_count": 56,
   "id": "7be4a20d-a80a-43b1-8b82-d0eb7f708827",
   "metadata": {},
   "outputs": [
    {
     "data": {
      "text/plain": [
       "['Vanilla', 3, ['Scoops', 'Spoon'], True]"
      ]
     },
     "execution_count": 56,
     "metadata": {},
     "output_type": "execute_result"
    }
   ],
   "source": [
    "['Vanilla',3,['Scoops','Spoon'],True]"
   ]
  },
  {
   "cell_type": "code",
   "execution_count": 57,
   "id": "7903e1cf-2358-4c03-936d-7451cb7f43ec",
   "metadata": {},
   "outputs": [],
   "source": [
    "ice_cream = ['Cookie Dough', 'Strawberry', 'Chocolate']\n",
    "ice_cream.append('Salted Caramel')"
   ]
  },
  {
   "cell_type": "code",
   "execution_count": 58,
   "id": "784b32a9-45ce-4a80-af6c-b9e7c6c40c31",
   "metadata": {},
   "outputs": [
    {
     "name": "stdout",
     "output_type": "stream",
     "text": [
      "['Cookie Dough', 'Strawberry', 'Chocolate', 'Salted Caramel']\n"
     ]
    }
   ],
   "source": [
    "print (ice_cream)"
   ]
  },
  {
   "cell_type": "code",
   "execution_count": 60,
   "id": "c226809c-3385-4c01-bc33-dbb782791d1f",
   "metadata": {},
   "outputs": [
    {
     "name": "stdout",
     "output_type": "stream",
     "text": [
      "['Butter pecan', 'Strawberry', 'Chocolate', 'Salted Caramel']\n"
     ]
    }
   ],
   "source": [
    "#change a value\n",
    "ice_cream[0] = 'Butter pecan'\n",
    "print (ice_cream)"
   ]
  },
  {
   "cell_type": "code",
   "execution_count": 62,
   "id": "886a9b90-349c-47d0-a7a9-aa70bc357e55",
   "metadata": {},
   "outputs": [],
   "source": [
    "#nested list\n",
    "nest_list = ['Vanilla', 3, ['Scoops','Spoon'],True]"
   ]
  },
  {
   "cell_type": "code",
   "execution_count": 64,
   "id": "dc1cb303-919e-41c3-a7f7-1b188dd6ce89",
   "metadata": {},
   "outputs": [
    {
     "data": {
      "text/plain": [
       "'Spoon'"
      ]
     },
     "execution_count": 64,
     "metadata": {},
     "output_type": "execute_result"
    }
   ],
   "source": [
    "nest_list[2][1]"
   ]
  },
  {
   "cell_type": "markdown",
   "id": "d6a2facc-a6c3-4ff2-a357-0778ae068f17",
   "metadata": {},
   "source": [
    "# Tuple"
   ]
  },
  {
   "cell_type": "code",
   "execution_count": null,
   "id": "3c925f2a-4bc7-4368-b5f3-e00e1f2b5916",
   "metadata": {},
   "outputs": [],
   "source": []
  }
 ],
 "metadata": {
  "kernelspec": {
   "display_name": "Python 3 (ipykernel)",
   "language": "python",
   "name": "python3"
  },
  "language_info": {
   "codemirror_mode": {
    "name": "ipython",
    "version": 3
   },
   "file_extension": ".py",
   "mimetype": "text/x-python",
   "name": "python",
   "nbconvert_exporter": "python",
   "pygments_lexer": "ipython3",
   "version": "3.12.7"
  }
 },
 "nbformat": 4,
 "nbformat_minor": 5
}
