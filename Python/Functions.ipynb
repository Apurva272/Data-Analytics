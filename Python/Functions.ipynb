{
 "cells": [
  {
   "cell_type": "markdown",
   "id": "041ebe4c-b1f6-4969-8174-bc99e4995bcd",
   "metadata": {},
   "source": [
    "# Functions"
   ]
  },
  {
   "cell_type": "code",
   "execution_count": 1,
   "id": "4e71f9bf-7b4a-4f7a-9d33-fbeb3fa6e89c",
   "metadata": {},
   "outputs": [],
   "source": [
    "def first_func():\n",
    "    print('we did it!')"
   ]
  },
  {
   "cell_type": "code",
   "execution_count": 2,
   "id": "946fa31f-334a-47a7-82db-6e6719986086",
   "metadata": {},
   "outputs": [
    {
     "name": "stdout",
     "output_type": "stream",
     "text": [
      "we did it!\n"
     ]
    }
   ],
   "source": [
    "first_func()"
   ]
  },
  {
   "cell_type": "code",
   "execution_count": 3,
   "id": "e1e467fa-35af-4b36-88eb-8a3593fe31b2",
   "metadata": {},
   "outputs": [],
   "source": [
    "def number_squared(number):\n",
    "    print(number**2)"
   ]
  },
  {
   "cell_type": "code",
   "execution_count": 4,
   "id": "ba2e5d4b-53e4-441f-8ace-82d3624e7358",
   "metadata": {},
   "outputs": [
    {
     "name": "stdout",
     "output_type": "stream",
     "text": [
      "25\n"
     ]
    }
   ],
   "source": [
    "number_squared(5)"
   ]
  },
  {
   "cell_type": "code",
   "execution_count": 6,
   "id": "bd0af8f4-bd29-419e-bb5e-ed7e86ce5c78",
   "metadata": {},
   "outputs": [],
   "source": [
    "def number_power_cust(number,power):\n",
    "    print(number**power)"
   ]
  },
  {
   "cell_type": "markdown",
   "id": "fe7e417a-7f50-4232-a44c-85c0114901bb",
   "metadata": {},
   "source": [
    "number_squared_cust(2,5)"
   ]
  },
  {
   "cell_type": "code",
   "execution_count": 7,
   "id": "e9183a64-3b28-4c8c-90da-ddf85fe76aed",
   "metadata": {},
   "outputs": [
    {
     "name": "stdout",
     "output_type": "stream",
     "text": [
      "8\n"
     ]
    }
   ],
   "source": [
    "number_power_cust(2,3)"
   ]
  },
  {
   "cell_type": "code",
   "execution_count": null,
   "id": "780c645b-91c9-4e3e-ad4b-d680e044d7dc",
   "metadata": {},
   "outputs": [],
   "source": [
    "#arbitrary functions\n",
    "#Arbitrary arguments: when you dont know how many arguments you have to pass\n",
    "#def number_args(*args):"
   ]
  },
  {
   "cell_type": "code",
   "execution_count": 1,
   "id": "ea8ebac3-eebd-4cf4-8e2e-1b92aa8c47fc",
   "metadata": {},
   "outputs": [],
   "source": [
    "def number_args(*number):\n",
    "    print(number[0]*number[1])"
   ]
  },
  {
   "cell_type": "code",
   "execution_count": 2,
   "id": "e967405c-3dcf-41ab-9ee9-c35777cd2eab",
   "metadata": {},
   "outputs": [
    {
     "name": "stdout",
     "output_type": "stream",
     "text": [
      "30\n"
     ]
    }
   ],
   "source": [
    "number_args(5,6,1,2,8)"
   ]
  },
  {
   "cell_type": "code",
   "execution_count": 3,
   "id": "8b91854c-7f36-4227-87ec-964914b9146c",
   "metadata": {},
   "outputs": [],
   "source": [
    "args_tuple = (5,6,1,2,8)\n",
    "def number_args(*number):\n",
    "    print(number[0]*number[1])"
   ]
  },
  {
   "cell_type": "code",
   "execution_count": 4,
   "id": "de1198dc-9142-4de7-ad67-454922d9b88e",
   "metadata": {},
   "outputs": [
    {
     "name": "stdout",
     "output_type": "stream",
     "text": [
      "30\n"
     ]
    }
   ],
   "source": [
    "number_args(*args_tuple)"
   ]
  },
  {
   "cell_type": "markdown",
   "id": "03361403-6994-481a-a38b-6577bb74fb6a",
   "metadata": {},
   "source": [
    "# Keyword Arguments"
   ]
  },
  {
   "cell_type": "markdown",
   "id": "0c7c7703-c806-43ac-9809-2baefcb56bfa",
   "metadata": {},
   "source": [
    "#Keyword arguments specify which argument for which variable in function call"
   ]
  },
  {
   "cell_type": "code",
   "execution_count": 1,
   "id": "8ad1cd6a-76ab-458b-b203-6edb31a827bd",
   "metadata": {},
   "outputs": [],
   "source": [
    "#arbitraey keyword ARGUMENT\n",
    "def num_kwarg(**number):\n",
    "    print('my number is: ' +number['integer'] + 'My other number:'+ number['integer2'])"
   ]
  },
  {
   "cell_type": "code",
   "execution_count": 9,
   "id": "4b28fcc5-8dd3-4351-87b2-01b9bad97807",
   "metadata": {},
   "outputs": [
    {
     "name": "stdout",
     "output_type": "stream",
     "text": [
      "my number is: 2309My other number:349\n"
     ]
    }
   ],
   "source": [
    "num_kwarg(integer = '2309',integer2 = '349')"
   ]
  },
  {
   "cell_type": "code",
   "execution_count": 10,
   "id": "524ff766-7d69-4670-a246-fb6c733fca22",
   "metadata": {},
   "outputs": [],
   "source": [
    "def number_power_cust(number,power):\n",
    "    print(number**power)"
   ]
  },
  {
   "cell_type": "code",
   "execution_count": 11,
   "id": "11a64bf2-21a2-465c-802c-2d21e7265c27",
   "metadata": {},
   "outputs": [
    {
     "name": "stdout",
     "output_type": "stream",
     "text": [
      "125\n"
     ]
    }
   ],
   "source": [
    "number_power_cust(number= 5,power = 3)"
   ]
  },
  {
   "cell_type": "code",
   "execution_count": null,
   "id": "c3206e92-ed21-4ac0-b969-502a985254bf",
   "metadata": {},
   "outputs": [],
   "source": []
  }
 ],
 "metadata": {
  "kernelspec": {
   "display_name": "Python 3 (ipykernel)",
   "language": "python",
   "name": "python3"
  },
  "language_info": {
   "codemirror_mode": {
    "name": "ipython",
    "version": 3
   },
   "file_extension": ".py",
   "mimetype": "text/x-python",
   "name": "python",
   "nbconvert_exporter": "python",
   "pygments_lexer": "ipython3",
   "version": "3.12.7"
  }
 },
 "nbformat": 4,
 "nbformat_minor": 5
}
