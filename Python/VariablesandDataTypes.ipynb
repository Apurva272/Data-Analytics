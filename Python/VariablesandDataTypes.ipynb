{
 "cells": [
  {
   "cell_type": "markdown",
   "id": "2955ebc5-0b06-4bb0-8029-971c8632ef6d",
   "metadata": {},
   "source": [
    "# Variables in Python"
   ]
  },
  {
   "cell_type": "code",
   "execution_count": 1,
   "id": "1bffb1f1-bd46-4f25-ab3a-52b887527bc9",
   "metadata": {},
   "outputs": [],
   "source": [
    "x = 27"
   ]
  },
  {
   "cell_type": "code",
   "execution_count": 2,
   "id": "65232893-2175-4ce6-a7cd-f3584827884c",
   "metadata": {},
   "outputs": [
    {
     "name": "stdout",
     "output_type": "stream",
     "text": [
      "27\n"
     ]
    }
   ],
   "source": [
    "print(x)"
   ]
  },
  {
   "cell_type": "code",
   "execution_count": 3,
   "id": "5ff28b62-8522-4a66-ad49-483006c0f2cd",
   "metadata": {},
   "outputs": [
    {
     "data": {
      "text/plain": [
       "int"
      ]
     },
     "execution_count": 3,
     "metadata": {},
     "output_type": "execute_result"
    }
   ],
   "source": [
    "type(x)"
   ]
  },
  {
   "cell_type": "code",
   "execution_count": 4,
   "id": "deb9bcf1-4ea2-4f73-96b5-f74ee652d890",
   "metadata": {},
   "outputs": [],
   "source": [
    "y = 'Hot cocoa'"
   ]
  },
  {
   "cell_type": "code",
   "execution_count": 5,
   "id": "cfeffcc9-0e64-4f88-929d-6f8ce00d0c5f",
   "metadata": {},
   "outputs": [
    {
     "data": {
      "text/plain": [
       "str"
      ]
     },
     "execution_count": 5,
     "metadata": {},
     "output_type": "execute_result"
    }
   ],
   "source": [
    "type(y)"
   ]
  },
  {
   "cell_type": "code",
   "execution_count": 8,
   "id": "410971f0-1402-4e71-a035-d7f01f576811",
   "metadata": {},
   "outputs": [
    {
     "name": "stdout",
     "output_type": "stream",
     "text": [
      "Hot cocoa\n"
     ]
    }
   ],
   "source": [
    "y = 'by the way special hot chocolate' \n",
    "y = 'Hot cocoa'\n",
    "print(y)"
   ]
  },
  {
   "cell_type": "code",
   "execution_count": 9,
   "id": "80fd06d1-5f3f-4190-b09e-54b48008f1b3",
   "metadata": {},
   "outputs": [
    {
     "name": "stdout",
     "output_type": "stream",
     "text": [
      "Chocolate\n",
      "Vanilla\n",
      "22\n"
     ]
    }
   ],
   "source": [
    "x,y,z = 'Chocolate','Vanilla', 22\n",
    "print(x)\n",
    "print(y)\n",
    "print(z)"
   ]
  },
  {
   "cell_type": "code",
   "execution_count": 10,
   "id": "4a1f6b08-6259-433f-85be-9fd9630dfeb9",
   "metadata": {},
   "outputs": [
    {
     "name": "stdout",
     "output_type": "stream",
     "text": [
      "77\n",
      "77\n",
      "77\n"
     ]
    }
   ],
   "source": [
    "x = y = z = 77\n",
    "print(x)\n",
    "print(y)\n",
    "print(z)"
   ]
  },
  {
   "cell_type": "code",
   "execution_count": 11,
   "id": "bd05c5b4-d10f-450a-b7d2-8c7e4c46a324",
   "metadata": {},
   "outputs": [
    {
     "name": "stdout",
     "output_type": "stream",
     "text": [
      "Chocolate\n",
      "Vanilla\n",
      "Mint choco chip\n"
     ]
    }
   ],
   "source": [
    "ice_cream = ['Chocolate','Vanilla','Mint choco chip']\n",
    "x,y,z = ice_cream\n",
    "print(x)\n",
    "print(y)\n",
    "print(z)"
   ]
  },
  {
   "cell_type": "code",
   "execution_count": 14,
   "id": "89b4536b-2005-447d-8477-5ac4f5660483",
   "metadata": {},
   "outputs": [
    {
     "name": "stdout",
     "output_type": "stream",
     "text": [
      "Ice cream Chillin Chillin\n"
     ]
    }
   ],
   "source": [
    "a = 'Ice cream' +' '+ 'Chillin Chillin'\n",
    "print(a)"
   ]
  },
  {
   "cell_type": "code",
   "execution_count": 15,
   "id": "1c16ea26-703c-4316-92ca-885bdf819f58",
   "metadata": {},
   "outputs": [
    {
     "name": "stdout",
     "output_type": "stream",
     "text": [
      "55\n"
     ]
    }
   ],
   "source": [
    "b = 22+33\n",
    "print(b)"
   ]
  },
  {
   "cell_type": "code",
   "execution_count": 17,
   "id": "9ab8513f-6577-4d8f-8257-2af1689012e5",
   "metadata": {},
   "outputs": [
    {
     "name": "stdout",
     "output_type": "stream",
     "text": [
      "Hello, my name is Apurva. I will become a data analyst soon in 2025.\n"
     ]
    }
   ],
   "source": [
    "x = 'Hello, my name is Apurva.'\n",
    "y = ' I will become a data analyst soon'\n",
    "z = ' in 2025.'\n",
    "print(x+y+z)"
   ]
  },
  {
   "cell_type": "code",
   "execution_count": 19,
   "id": "54b58228-4440-4d63-9737-5f75dbf7c386",
   "metadata": {},
   "outputs": [
    {
     "name": "stdout",
     "output_type": "stream",
     "text": [
      "20\n"
     ]
    }
   ],
   "source": [
    "x = 10\n",
    "y = -20\n",
    "z = 30\n",
    "print(x+y+z)"
   ]
  },
  {
   "cell_type": "code",
   "execution_count": 20,
   "id": "ca94ebf1-079f-4546-bb97-20a4aff9696e",
   "metadata": {},
   "outputs": [
    {
     "name": "stdout",
     "output_type": "stream",
     "text": [
      "Data Analyst 2025\n"
     ]
    }
   ],
   "source": [
    "x = \"Data Analyst\"\n",
    "y = 2025\n",
    "print(x,y)"
   ]
  },
  {
   "cell_type": "markdown",
   "id": "f4da3fee-f8d7-4e23-b4a2-32908d8d46a4",
   "metadata": {},
   "source": [
    "# Data types"
   ]
  },
  {
   "cell_type": "code",
   "execution_count": 21,
   "id": "16c6ce77-412f-4d9e-8ad9-5dd0cd41f6c8",
   "metadata": {},
   "outputs": [
    {
     "data": {
      "text/plain": [
       "int"
      ]
     },
     "execution_count": 21,
     "metadata": {},
     "output_type": "execute_result"
    }
   ],
   "source": [
    "type(-100+12)"
   ]
  },
  {
   "cell_type": "code",
   "execution_count": 22,
   "id": "20eae547-2587-4f87-8011-2c3acbc46805",
   "metadata": {},
   "outputs": [
    {
     "data": {
      "text/plain": [
       "float"
      ]
     },
     "execution_count": 22,
     "metadata": {},
     "output_type": "execute_result"
    }
   ],
   "source": [
    "type(10+11.24)"
   ]
  },
  {
   "cell_type": "code",
   "execution_count": 23,
   "id": "6dc00845-c340-4cbc-b50d-08b85ee5cfb4",
   "metadata": {},
   "outputs": [
    {
     "ename": "SyntaxError",
     "evalue": "invalid decimal literal (3461672336.py, line 1)",
     "output_type": "error",
     "traceback": [
      "\u001b[1;36m  Cell \u001b[1;32mIn[23], line 1\u001b[1;36m\u001b[0m\n\u001b[1;33m    type(12+3i)\u001b[0m\n\u001b[1;37m            ^\u001b[0m\n\u001b[1;31mSyntaxError\u001b[0m\u001b[1;31m:\u001b[0m invalid decimal literal\n"
     ]
    }
   ],
   "source": [
    "type(12+3i)"
   ]
  },
  {
   "cell_type": "code",
   "execution_count": 24,
   "id": "a06c8ee4-93b3-45db-90a7-9a5f87318640",
   "metadata": {},
   "outputs": [
    {
     "data": {
      "text/plain": [
       "complex"
      ]
     },
     "execution_count": 24,
     "metadata": {},
     "output_type": "execute_result"
    }
   ],
   "source": [
    "type(12+3j)"
   ]
  },
  {
   "cell_type": "code",
   "execution_count": 25,
   "id": "9117732c-610c-4501-b23b-ff4da4504fd6",
   "metadata": {},
   "outputs": [],
   "source": [
    "#Boolean"
   ]
  },
  {
   "cell_type": "code",
   "execution_count": 26,
   "id": "0548cccc-408d-430f-ad75-6a44c80a4e76",
   "metadata": {},
   "outputs": [
    {
     "ename": "NameError",
     "evalue": "name 'true' is not defined",
     "output_type": "error",
     "traceback": [
      "\u001b[1;31m---------------------------------------------------------------------------\u001b[0m",
      "\u001b[1;31mNameError\u001b[0m                                 Traceback (most recent call last)",
      "Cell \u001b[1;32mIn[26], line 1\u001b[0m\n\u001b[1;32m----> 1\u001b[0m \u001b[38;5;28mtype\u001b[39m(true)\n",
      "\u001b[1;31mNameError\u001b[0m: name 'true' is not defined"
     ]
    }
   ],
   "source": [
    "type(true)"
   ]
  },
  {
   "cell_type": "code",
   "execution_count": 27,
   "id": "98559571-115a-4699-a223-d69222e4dadc",
   "metadata": {},
   "outputs": [
    {
     "data": {
      "text/plain": [
       "bool"
      ]
     },
     "execution_count": 27,
     "metadata": {},
     "output_type": "execute_result"
    }
   ],
   "source": [
    "type(True)"
   ]
  },
  {
   "cell_type": "code",
   "execution_count": 28,
   "id": "38857bba-94d5-4ae1-896f-f5fc734c31bf",
   "metadata": {},
   "outputs": [
    {
     "data": {
      "text/plain": [
       "bool"
      ]
     },
     "execution_count": 28,
     "metadata": {},
     "output_type": "execute_result"
    }
   ],
   "source": [
    "type(False)"
   ]
  },
  {
   "cell_type": "code",
   "execution_count": 29,
   "id": "bcdf5b6e-31e3-43ec-8e4d-46d76c64b78f",
   "metadata": {},
   "outputs": [
    {
     "data": {
      "text/plain": [
       "bool"
      ]
     },
     "execution_count": 29,
     "metadata": {},
     "output_type": "execute_result"
    }
   ],
   "source": [
    "type(1>5)"
   ]
  },
  {
   "cell_type": "code",
   "execution_count": 30,
   "id": "2ce35764-2e2a-4731-9283-a6cec69a0947",
   "metadata": {},
   "outputs": [
    {
     "data": {
      "text/plain": [
       "False"
      ]
     },
     "execution_count": 30,
     "metadata": {},
     "output_type": "execute_result"
    }
   ],
   "source": [
    "1>5"
   ]
  },
  {
   "cell_type": "code",
   "execution_count": 31,
   "id": "df76b880-1c60-4a3a-af91-c75306383fb3",
   "metadata": {},
   "outputs": [
    {
     "data": {
      "text/plain": [
       "True"
      ]
     },
     "execution_count": 31,
     "metadata": {},
     "output_type": "execute_result"
    }
   ],
   "source": [
    "1==1"
   ]
  },
  {
   "cell_type": "markdown",
   "id": "76b0efcb-d0f6-4556-a7c6-1c7f3b9c3232",
   "metadata": {},
   "source": [
    "# Strings"
   ]
  },
  {
   "cell_type": "code",
   "execution_count": null,
   "id": "209c3a3c-6d2e-4199-8eac-3ce517d38787",
   "metadata": {},
   "outputs": [],
   "source": [
    "#Strings are immutable and indexed"
   ]
  },
  {
   "cell_type": "code",
   "execution_count": 32,
   "id": "4b60002e-b3d5-4c7e-b3bc-08bf258ab447",
   "metadata": {},
   "outputs": [
    {
     "data": {
      "text/plain": [
       "'Single Quote'"
      ]
     },
     "execution_count": 32,
     "metadata": {},
     "output_type": "execute_result"
    }
   ],
   "source": [
    "#Strings\n",
    "'Single Quote'"
   ]
  },
  {
   "cell_type": "code",
   "execution_count": 33,
   "id": "97ab5286-8874-4dd4-8b58-50101567e1a3",
   "metadata": {},
   "outputs": [
    {
     "data": {
      "text/plain": [
       "'Double quote'"
      ]
     },
     "execution_count": 33,
     "metadata": {},
     "output_type": "execute_result"
    }
   ],
   "source": [
    "\"Double quote\""
   ]
  },
  {
   "cell_type": "code",
   "execution_count": 34,
   "id": "35839678-62fb-4571-ab6e-0ae782b14a34",
   "metadata": {},
   "outputs": [
    {
     "ename": "SyntaxError",
     "evalue": "unterminated string literal (detected at line 1) (1787343665.py, line 1)",
     "output_type": "error",
     "traceback": [
      "\u001b[1;36m  Cell \u001b[1;32mIn[34], line 1\u001b[1;36m\u001b[0m\n\u001b[1;33m    \" \" \"\u001b[0m\n\u001b[1;37m        ^\u001b[0m\n\u001b[1;31mSyntaxError\u001b[0m\u001b[1;31m:\u001b[0m unterminated string literal (detected at line 1)\n"
     ]
    }
   ],
   "source": [
    "\" \" \"\n",
    "The ice cream van arrives\n",
    "I look on the other side\n",
    "The day is brighter outside\n",
    "I have to go \n",
    "\" \" \""
   ]
  },
  {
   "cell_type": "code",
   "execution_count": 35,
   "id": "1a782097-389f-44e7-a958-8f60ea271f7f",
   "metadata": {},
   "outputs": [
    {
     "data": {
      "text/plain": [
       "'\\nThe ice cream van arrives\\nI look on the other side\\nThe day is brighter outside\\nI have to go \\n'"
      ]
     },
     "execution_count": 35,
     "metadata": {},
     "output_type": "execute_result"
    }
   ],
   "source": [
    "multiline = \"\"\"\n",
    "The ice cream van arrives\n",
    "I look on the other side\n",
    "The day is brighter outside\n",
    "I have to go \n",
    "\"\"\""
   ]
  },
  {
   "cell_type": "code",
   "execution_count": 36,
   "id": "30b52586-9408-4071-a53e-2f9449a87c6c",
   "metadata": {},
   "outputs": [
    {
     "ename": "NameError",
     "evalue": "name 'multiline_strings' is not defined",
     "output_type": "error",
     "traceback": [
      "\u001b[1;31m---------------------------------------------------------------------------\u001b[0m",
      "\u001b[1;31mNameError\u001b[0m                                 Traceback (most recent call last)",
      "Cell \u001b[1;32mIn[36], line 1\u001b[0m\n\u001b[1;32m----> 1\u001b[0m \u001b[38;5;28mprint\u001b[39m(multiline_strings)\n",
      "\u001b[1;31mNameError\u001b[0m: name 'multiline_strings' is not defined"
     ]
    }
   ],
   "source": [
    "print(multiline_strings)"
   ]
  },
  {
   "cell_type": "code",
   "execution_count": 37,
   "id": "59a4a05c-d1f1-4afb-aef6-f4cbd7c4143f",
   "metadata": {},
   "outputs": [
    {
     "ename": "NameError",
     "evalue": "name 'multiline' is not defined",
     "output_type": "error",
     "traceback": [
      "\u001b[1;31m---------------------------------------------------------------------------\u001b[0m",
      "\u001b[1;31mNameError\u001b[0m                                 Traceback (most recent call last)",
      "Cell \u001b[1;32mIn[37], line 1\u001b[0m\n\u001b[1;32m----> 1\u001b[0m \u001b[38;5;28mprint\u001b[39m(multiline)\n",
      "\u001b[1;31mNameError\u001b[0m: name 'multiline' is not defined"
     ]
    }
   ],
   "source": [
    "print(multiline)"
   ]
  },
  {
   "cell_type": "code",
   "execution_count": 39,
   "id": "0209d3e8-b428-47a8-b526-3b55057c7666",
   "metadata": {},
   "outputs": [
    {
     "name": "stdout",
     "output_type": "stream",
     "text": [
      "\n",
      "The ice cream van arrives\n",
      "I look on the other side\n",
      "The day is brighter outside\n",
      "I have to go \n",
      "\n"
     ]
    }
   ],
   "source": [
    "multiline = \"\"\"\n",
    "The ice cream van arrives\n",
    "I look on the other side\n",
    "The day is brighter outside\n",
    "I have to go \n",
    "\"\"\"\n",
    "print(multiline)"
   ]
  },
  {
   "cell_type": "code",
   "execution_count": 40,
   "id": "25a5a206-adee-406f-9944-32f3c4490d00",
   "metadata": {},
   "outputs": [
    {
     "data": {
      "text/plain": [
       "str"
      ]
     },
     "execution_count": 40,
     "metadata": {},
     "output_type": "execute_result"
    }
   ],
   "source": [
    "type(multiline)"
   ]
  },
  {
   "cell_type": "code",
   "execution_count": 41,
   "id": "3b71fcf3-b7fc-46e4-a8a6-d201e4bfd618",
   "metadata": {},
   "outputs": [
    {
     "name": "stdout",
     "output_type": "stream",
     "text": [
      "\n",
      "The ice cream van arrives\n",
      "I look on the other side\n",
      "The day is brighter outside\n",
      "I have to go \n",
      "\n"
     ]
    }
   ],
   "source": [
    "print(multiline)"
   ]
  },
  {
   "cell_type": "code",
   "execution_count": 44,
   "id": "a901d6fe-2a5e-4dea-8ba1-e135bdcda243",
   "metadata": {},
   "outputs": [
    {
     "name": "stdout",
     "output_type": "stream",
     "text": [
      " \n"
     ]
    }
   ],
   "source": [
    "#indexing in a string\n",
    "a = 'Hello World!'\n",
    "print(a[5])"
   ]
  },
  {
   "cell_type": "code",
   "execution_count": 45,
   "id": "7ae7d2a8-f702-4e33-928d-db1e08d00665",
   "metadata": {},
   "outputs": [
    {
     "name": "stdout",
     "output_type": "stream",
     "text": [
      " \n"
     ]
    }
   ],
   "source": [
    "a = 'Hello World!'\n",
    "print(a[5])"
   ]
  },
  {
   "cell_type": "code",
   "execution_count": 46,
   "id": "d40692b7-1f82-4c80-9a32-a3236b01aa95",
   "metadata": {},
   "outputs": [
    {
     "data": {
      "text/plain": [
       "str"
      ]
     },
     "execution_count": 46,
     "metadata": {},
     "output_type": "execute_result"
    }
   ],
   "source": [
    "type(a)"
   ]
  },
  {
   "cell_type": "code",
   "execution_count": 47,
   "id": "74bc672a-370f-4da5-b875-63944394bfc8",
   "metadata": {},
   "outputs": [
    {
     "name": "stdout",
     "output_type": "stream",
     "text": [
      "Hello World!\n"
     ]
    }
   ],
   "source": [
    "print(a)"
   ]
  },
  {
   "cell_type": "code",
   "execution_count": 65,
   "id": "7a46f42e-a923-495f-986b-a579eace47f6",
   "metadata": {},
   "outputs": [
    {
     "ename": "TypeError",
     "evalue": "'str' object does not support item assignment",
     "output_type": "error",
     "traceback": [
      "\u001b[1;31m---------------------------------------------------------------------------\u001b[0m",
      "\u001b[1;31mTypeError\u001b[0m                                 Traceback (most recent call last)",
      "Cell \u001b[1;32mIn[65], line 1\u001b[0m\n\u001b[1;32m----> 1\u001b[0m a[\u001b[38;5;241m0\u001b[39m] \u001b[38;5;241m=\u001b[39m \u001b[38;5;124m'\u001b[39m\u001b[38;5;124mB\u001b[39m\u001b[38;5;124m'\u001b[39m\n\u001b[0;32m      2\u001b[0m \u001b[38;5;28mprint\u001b[39m (a)\n",
      "\u001b[1;31mTypeError\u001b[0m: 'str' object does not support item assignment"
     ]
    }
   ],
   "source": [
    "a[0] = 'B'\n",
    "print (a)"
   ]
  },
  {
   "cell_type": "raw",
   "id": "7f3cb395-ee03-4e1e-8fdf-abdd897375fa",
   "metadata": {},
   "source": [
    "a[0] = 'B'\n",
    "print (a)"
   ]
  },
  {
   "cell_type": "code",
   "execution_count": 48,
   "id": "8810c210-f8ff-479b-9332-a4037d7b4174",
   "metadata": {},
   "outputs": [
    {
     "name": "stdout",
     "output_type": "stream",
     "text": [
      "W\n"
     ]
    }
   ],
   "source": [
    "print (a[6])"
   ]
  },
  {
   "cell_type": "code",
   "execution_count": 49,
   "id": "eee60696-9e7c-4693-a8ac-91b46d8b8a38",
   "metadata": {},
   "outputs": [
    {
     "name": "stdout",
     "output_type": "stream",
     "text": [
      "Hello\n"
     ]
    }
   ],
   "source": [
    "print (a[0:5])"
   ]
  },
  {
   "cell_type": "code",
   "execution_count": 50,
   "id": "a7f6ba75-68b6-444b-810b-ad49b681e8ab",
   "metadata": {},
   "outputs": [
    {
     "name": "stdout",
     "output_type": "stream",
     "text": [
      " \n"
     ]
    }
   ],
   "source": [
    "print (a[5])"
   ]
  },
  {
   "cell_type": "code",
   "execution_count": 51,
   "id": "af9090a8-b06f-4c3a-af24-948458b4ea77",
   "metadata": {},
   "outputs": [
    {
     "name": "stdout",
     "output_type": "stream",
     "text": [
      "o\n"
     ]
    }
   ],
   "source": [
    "print (a[4])"
   ]
  },
  {
   "cell_type": "code",
   "execution_count": 52,
   "id": "5841a80f-c04a-4e8f-a633-7f3b7789a380",
   "metadata": {},
   "outputs": [
    {
     "data": {
      "text/plain": [
       "'Hello World!Hello World!Hello World!'"
      ]
     },
     "execution_count": 52,
     "metadata": {},
     "output_type": "execute_result"
    }
   ],
   "source": [
    "a*3"
   ]
  },
  {
   "cell_type": "code",
   "execution_count": 53,
   "id": "14545b9e-d76c-4ead-8ffd-cb8aa6b91cfe",
   "metadata": {},
   "outputs": [
    {
     "data": {
      "text/plain": [
       "'Hello World!Hello World!'"
      ]
     },
     "execution_count": 53,
     "metadata": {},
     "output_type": "execute_result"
    }
   ],
   "source": [
    "a + a"
   ]
  },
  {
   "cell_type": "markdown",
   "id": "e3813bc1-5de3-4270-b6fd-07131fef80fb",
   "metadata": {},
   "source": [
    "# Lists"
   ]
  },
  {
   "cell_type": "code",
   "execution_count": 54,
   "id": "cb66c257-66ac-4bf8-b850-8b808f6abce3",
   "metadata": {},
   "outputs": [
    {
     "data": {
      "text/plain": [
       "[1, 2, 3]"
      ]
     },
     "execution_count": 54,
     "metadata": {},
     "output_type": "execute_result"
    }
   ],
   "source": [
    "[1,2,3]"
   ]
  },
  {
   "cell_type": "code",
   "execution_count": 55,
   "id": "09010d9e-64f2-45b5-9b00-c60e62b10aaf",
   "metadata": {},
   "outputs": [
    {
     "data": {
      "text/plain": [
       "['cookie', 'strawberry', 'chocolate']"
      ]
     },
     "execution_count": 55,
     "metadata": {},
     "output_type": "execute_result"
    }
   ],
   "source": [
    "['cookie','strawberry','chocolate']"
   ]
  },
  {
   "cell_type": "code",
   "execution_count": 56,
   "id": "7be4a20d-a80a-43b1-8b82-d0eb7f708827",
   "metadata": {},
   "outputs": [
    {
     "data": {
      "text/plain": [
       "['Vanilla', 3, ['Scoops', 'Spoon'], True]"
      ]
     },
     "execution_count": 56,
     "metadata": {},
     "output_type": "execute_result"
    }
   ],
   "source": [
    "['Vanilla',3,['Scoops','Spoon'],True]"
   ]
  },
  {
   "cell_type": "code",
   "execution_count": 57,
   "id": "7903e1cf-2358-4c03-936d-7451cb7f43ec",
   "metadata": {},
   "outputs": [],
   "source": [
    "ice_cream = ['Cookie Dough', 'Strawberry', 'Chocolate']\n",
    "ice_cream.append('Salted Caramel')"
   ]
  },
  {
   "cell_type": "code",
   "execution_count": 58,
   "id": "784b32a9-45ce-4a80-af6c-b9e7c6c40c31",
   "metadata": {},
   "outputs": [
    {
     "name": "stdout",
     "output_type": "stream",
     "text": [
      "['Cookie Dough', 'Strawberry', 'Chocolate', 'Salted Caramel']\n"
     ]
    }
   ],
   "source": [
    "print (ice_cream)"
   ]
  },
  {
   "cell_type": "code",
   "execution_count": 60,
   "id": "c226809c-3385-4c01-bc33-dbb782791d1f",
   "metadata": {},
   "outputs": [
    {
     "name": "stdout",
     "output_type": "stream",
     "text": [
      "['Butter pecan', 'Strawberry', 'Chocolate', 'Salted Caramel']\n"
     ]
    }
   ],
   "source": [
    "#change a value\n",
    "ice_cream[0] = 'Butter pecan'\n",
    "print (ice_cream)"
   ]
  },
  {
   "cell_type": "code",
   "execution_count": 62,
   "id": "886a9b90-349c-47d0-a7a9-aa70bc357e55",
   "metadata": {},
   "outputs": [],
   "source": [
    "#nested list\n",
    "nest_list = ['Vanilla', 3, ['Scoops','Spoon'],True]"
   ]
  },
  {
   "cell_type": "code",
   "execution_count": 64,
   "id": "dc1cb303-919e-41c3-a7f7-1b188dd6ce89",
   "metadata": {},
   "outputs": [
    {
     "data": {
      "text/plain": [
       "'Spoon'"
      ]
     },
     "execution_count": 64,
     "metadata": {},
     "output_type": "execute_result"
    }
   ],
   "source": [
    "nest_list[2][1]"
   ]
  },
  {
   "cell_type": "markdown",
   "id": "d6a2facc-a6c3-4ff2-a357-0778ae068f17",
   "metadata": {},
   "source": [
    "# Tuple"
   ]
  },
  {
   "cell_type": "code",
   "execution_count": 1,
   "id": "3c925f2a-4bc7-4368-b5f3-e00e1f2b5916",
   "metadata": {},
   "outputs": [],
   "source": [
    "tuple_scoops = (1,2,3,2,1)\n"
   ]
  },
  {
   "cell_type": "code",
   "execution_count": 2,
   "id": "07ad432f-c289-4f7d-989e-f1c317f75be2",
   "metadata": {},
   "outputs": [
    {
     "data": {
      "text/plain": [
       "tuple"
      ]
     },
     "execution_count": 2,
     "metadata": {},
     "output_type": "execute_result"
    }
   ],
   "source": [
    "type(tuple_scoops)"
   ]
  },
  {
   "cell_type": "code",
   "execution_count": 3,
   "id": "2f5ac6e1-d7aa-4729-8926-a01eded097c1",
   "metadata": {},
   "outputs": [
    {
     "ename": "AttributeError",
     "evalue": "'tuple' object has no attribute 'append'",
     "output_type": "error",
     "traceback": [
      "\u001b[1;31m---------------------------------------------------------------------------\u001b[0m",
      "\u001b[1;31mAttributeError\u001b[0m                            Traceback (most recent call last)",
      "Cell \u001b[1;32mIn[3], line 1\u001b[0m\n\u001b[1;32m----> 1\u001b[0m tuple_scoops\u001b[38;5;241m.\u001b[39mappend(\u001b[38;5;241m3\u001b[39m)\n",
      "\u001b[1;31mAttributeError\u001b[0m: 'tuple' object has no attribute 'append'"
     ]
    }
   ],
   "source": [
    "tuple_scoops.append(3)\n"
   ]
  },
  {
   "cell_type": "code",
   "execution_count": null,
   "id": "e77b83d3-c91c-4dfb-b177-91d21252bcef",
   "metadata": {},
   "outputs": [],
   "source": [
    "#tuples are indexed and immutable"
   ]
  },
  {
   "cell_type": "markdown",
   "id": "769b6711-c433-4ba7-805b-91085e1b6f71",
   "metadata": {},
   "source": [
    "# sets"
   ]
  },
  {
   "cell_type": "code",
   "execution_count": null,
   "id": "4137a6a4-70ed-4100-80a4-55c8693cc172",
   "metadata": {},
   "outputs": [],
   "source": [
    "#dont have any duplicate value, set is not indexed, unordered"
   ]
  },
  {
   "cell_type": "code",
   "execution_count": 4,
   "id": "1470b967-8bae-4a4b-8d6d-387f4b44b6c4",
   "metadata": {},
   "outputs": [],
   "source": [
    "daily_pints = {1,2,3}"
   ]
  },
  {
   "cell_type": "code",
   "execution_count": 5,
   "id": "baeb0864-8974-413c-a05c-465b001eb5ec",
   "metadata": {},
   "outputs": [
    {
     "data": {
      "text/plain": [
       "set"
      ]
     },
     "execution_count": 5,
     "metadata": {},
     "output_type": "execute_result"
    }
   ],
   "source": [
    "type(daily_pints)"
   ]
  },
  {
   "cell_type": "code",
   "execution_count": 6,
   "id": "ed6df368-9949-45c3-9062-1baf2a55955f",
   "metadata": {},
   "outputs": [
    {
     "name": "stdout",
     "output_type": "stream",
     "text": [
      "{1, 2, 3, 4, 5, 6, 31}\n"
     ]
    }
   ],
   "source": [
    "daily_pints_log = {1,2,3,31,2,3,4,1,2,5,6}\n",
    "print(daily_pints_log)"
   ]
  },
  {
   "cell_type": "code",
   "execution_count": null,
   "id": "3c1a74a1-dd24-4c6f-9cdb-bb440c153114",
   "metadata": {},
   "outputs": [],
   "source": [
    "#use case of sets: compare unique values of 2 different sets"
   ]
  },
  {
   "cell_type": "code",
   "execution_count": 7,
   "id": "161ef3bb-0936-48ff-83d4-451ecc9bdec0",
   "metadata": {},
   "outputs": [],
   "source": [
    "weekly_classes_science = {'Physics', 'Chem', 'English', 'Math', 'Physics', 'Math'}"
   ]
  },
  {
   "cell_type": "code",
   "execution_count": 8,
   "id": "6b627d79-d94e-4a45-8c0c-18eebc2f95d9",
   "metadata": {},
   "outputs": [],
   "source": [
    "weekly_classes_art = {'History', 'Math', 'English', 'Civics', 'Painting', 'English'}"
   ]
  },
  {
   "cell_type": "code",
   "execution_count": 9,
   "id": "451727b9-ea4d-4865-81f8-e7adfd6ed1e3",
   "metadata": {},
   "outputs": [
    {
     "ename": "NameError",
     "evalue": "name 'weekly_classes_schience' is not defined",
     "output_type": "error",
     "traceback": [
      "\u001b[1;31m---------------------------------------------------------------------------\u001b[0m",
      "\u001b[1;31mNameError\u001b[0m                                 Traceback (most recent call last)",
      "Cell \u001b[1;32mIn[9], line 1\u001b[0m\n\u001b[1;32m----> 1\u001b[0m \u001b[38;5;28mprint\u001b[39m (weekly_classes_schience \u001b[38;5;241m|\u001b[39m weekly_classes_art)\n",
      "\u001b[1;31mNameError\u001b[0m: name 'weekly_classes_schience' is not defined"
     ]
    }
   ],
   "source": [
    "print (weekly_classes_schience | weekly_classes_art)"
   ]
  },
  {
   "cell_type": "code",
   "execution_count": 10,
   "id": "dc984edb-194d-4eee-a613-534f1a9a9f05",
   "metadata": {},
   "outputs": [
    {
     "name": "stdout",
     "output_type": "stream",
     "text": [
      "{'History', 'Painting', 'Math', 'Chem', 'Physics', 'English', 'Civics'}\n"
     ]
    }
   ],
   "source": [
    "print (weekly_classes_science | weekly_classes_art)"
   ]
  },
  {
   "cell_type": "code",
   "execution_count": 11,
   "id": "5937e9b6-42c1-49d6-87a5-48588abaa941",
   "metadata": {},
   "outputs": [
    {
     "name": "stdout",
     "output_type": "stream",
     "text": [
      "{'Math', 'English'}\n"
     ]
    }
   ],
   "source": [
    "print (weekly_classes_science & weekly_classes_art) #find common elements in both sets"
   ]
  },
  {
   "cell_type": "code",
   "execution_count": 12,
   "id": "82545036-68d4-4eca-b3f0-57bf50d1534a",
   "metadata": {},
   "outputs": [
    {
     "name": "stdout",
     "output_type": "stream",
     "text": [
      "{'Physics', 'Chem'}\n"
     ]
    }
   ],
   "source": [
    "print (weekly_classes_science - weekly_classes_art)"
   ]
  },
  {
   "cell_type": "code",
   "execution_count": 13,
   "id": "7746b5e7-4fe0-4f96-b034-d94b46fb892d",
   "metadata": {},
   "outputs": [
    {
     "name": "stdout",
     "output_type": "stream",
     "text": [
      "{'Painting', 'History', 'Civics'}\n"
     ]
    }
   ],
   "source": [
    "print (weekly_classes_art - weekly_classes_science)"
   ]
  },
  {
   "cell_type": "code",
   "execution_count": 15,
   "id": "9aacda1d-20ce-4b8f-8fb3-fc0a37868c88",
   "metadata": {},
   "outputs": [
    {
     "name": "stdout",
     "output_type": "stream",
     "text": [
      "{'History', 'Painting', 'Chem', 'Physics', 'Civics'}\n"
     ]
    }
   ],
   "source": [
    "print (weekly_classes_art ^ weekly_classes_science) #present in either but not both "
   ]
  },
  {
   "cell_type": "markdown",
   "id": "ca2e78f6-d3c6-4586-8de1-7a87de6971de",
   "metadata": {},
   "source": [
    "# Dictionaries"
   ]
  },
  {
   "cell_type": "code",
   "execution_count": 16,
   "id": "2f7899f8-a796-4d7a-acee-8ece389ba6cc",
   "metadata": {},
   "outputs": [],
   "source": [
    "#key value pair, dictionary is mutable, not indexed but can be referenced through keys\n",
    "dictionary_cream = {'name':'Apurva', 'weekly intake': 5, 'favourite ice cream': ['Mint chocolate chip', 'cookie dough']}"
   ]
  },
  {
   "cell_type": "code",
   "execution_count": 17,
   "id": "bdf7b7e0-52f4-4858-bf96-6dca59f8de53",
   "metadata": {},
   "outputs": [
    {
     "data": {
      "text/plain": [
       "dict"
      ]
     },
     "execution_count": 17,
     "metadata": {},
     "output_type": "execute_result"
    }
   ],
   "source": [
    "type(dictionary_cream)"
   ]
  },
  {
   "cell_type": "code",
   "execution_count": 18,
   "id": "8bb7f4fa-13b4-4b59-a0e8-2ba32be193de",
   "metadata": {},
   "outputs": [
    {
     "name": "stdout",
     "output_type": "stream",
     "text": [
      "{'name': 'Apurva', 'weekly intake': 5, 'favourite ice cream': ['Mint chocolate chip', 'cookie dough']}\n"
     ]
    }
   ],
   "source": [
    "print(dictionary_cream)"
   ]
  },
  {
   "cell_type": "code",
   "execution_count": 19,
   "id": "fe4faffb-8db2-458c-8a9d-899311794d53",
   "metadata": {},
   "outputs": [
    {
     "data": {
      "text/plain": [
       "dict_values(['Apurva', 5, ['Mint chocolate chip', 'cookie dough']])"
      ]
     },
     "execution_count": 19,
     "metadata": {},
     "output_type": "execute_result"
    }
   ],
   "source": [
    "dictionary_cream.values()"
   ]
  },
  {
   "cell_type": "code",
   "execution_count": 20,
   "id": "b892fc92-78c9-43f4-b7fe-d9ec1f58ab85",
   "metadata": {},
   "outputs": [
    {
     "data": {
      "text/plain": [
       "dict_keys(['name', 'weekly intake', 'favourite ice cream'])"
      ]
     },
     "execution_count": 20,
     "metadata": {},
     "output_type": "execute_result"
    }
   ],
   "source": [
    "dictionary_cream.keys()"
   ]
  },
  {
   "cell_type": "code",
   "execution_count": 21,
   "id": "bcede030-041f-4630-a31d-7b84918b4725",
   "metadata": {},
   "outputs": [
    {
     "data": {
      "text/plain": [
       "dict_items([('name', 'Apurva'), ('weekly intake', 5), ('favourite ice cream', ['Mint chocolate chip', 'cookie dough'])])"
      ]
     },
     "execution_count": 21,
     "metadata": {},
     "output_type": "execute_result"
    }
   ],
   "source": [
    "dictionary_cream.items()"
   ]
  },
  {
   "cell_type": "code",
   "execution_count": 22,
   "id": "03141993-9632-4bf1-8c23-904ebd7b56d7",
   "metadata": {},
   "outputs": [
    {
     "data": {
      "text/plain": [
       "'Apurva'"
      ]
     },
     "execution_count": 22,
     "metadata": {},
     "output_type": "execute_result"
    }
   ],
   "source": [
    "dictionary_cream['name']"
   ]
  },
  {
   "cell_type": "code",
   "execution_count": 23,
   "id": "e01ade37-9299-4ff4-a76a-0742b90635d3",
   "metadata": {},
   "outputs": [
    {
     "ename": "AttributeError",
     "evalue": "'dict' object has no attribute 'name'",
     "output_type": "error",
     "traceback": [
      "\u001b[1;31m---------------------------------------------------------------------------\u001b[0m",
      "\u001b[1;31mAttributeError\u001b[0m                            Traceback (most recent call last)",
      "Cell \u001b[1;32mIn[23], line 1\u001b[0m\n\u001b[1;32m----> 1\u001b[0m dictionary_cream\u001b[38;5;241m.\u001b[39m name \u001b[38;5;241m=\u001b[39m \u001b[38;5;124m'\u001b[39m\u001b[38;5;124mVaibhav\u001b[39m\u001b[38;5;124m'\u001b[39m\n",
      "\u001b[1;31mAttributeError\u001b[0m: 'dict' object has no attribute 'name'"
     ]
    }
   ],
   "source": [
    "dictionary_cream. name = 'Vaibhav'"
   ]
  },
  {
   "cell_type": "code",
   "execution_count": 24,
   "id": "ffa248ec-fa48-44b9-b65f-561e247baa78",
   "metadata": {},
   "outputs": [],
   "source": [
    "dictionary_cream['name'] = 'Vaibhav'"
   ]
  },
  {
   "cell_type": "code",
   "execution_count": 25,
   "id": "eea1c594-8363-4c25-a17a-cd96b73f7156",
   "metadata": {},
   "outputs": [
    {
     "name": "stdout",
     "output_type": "stream",
     "text": [
      "{'name': 'Vaibhav', 'weekly intake': 5, 'favourite ice cream': ['Mint chocolate chip', 'cookie dough']}\n"
     ]
    }
   ],
   "source": [
    "print (dictionary_cream)"
   ]
  },
  {
   "cell_type": "code",
   "execution_count": 26,
   "id": "34ea1752-9b8c-4897-b7a5-2bc6cffc4d32",
   "metadata": {},
   "outputs": [
    {
     "ename": "SyntaxError",
     "evalue": "incomplete input (2875566240.py, line 1)",
     "output_type": "error",
     "traceback": [
      "\u001b[1;36m  Cell \u001b[1;32mIn[26], line 1\u001b[1;36m\u001b[0m\n\u001b[1;33m    dictionary_cream.update({'name':'Apurva', 'weekly intake': 3, 'favourite ice cream': ['Mint chocolate chip', 'coffee']}\u001b[0m\n\u001b[1;37m                                                                                                                           ^\u001b[0m\n\u001b[1;31mSyntaxError\u001b[0m\u001b[1;31m:\u001b[0m incomplete input\n"
     ]
    }
   ],
   "source": [
    "dictionary_cream.update({'name':'Apurva', 'weekly intake': 3, 'favourite ice cream': ['Mint chocolate chip', 'coffee']}"
   ]
  },
  {
   "cell_type": "code",
   "execution_count": 27,
   "id": "24bc3a40-6ba7-4d39-979e-650c627132e1",
   "metadata": {},
   "outputs": [],
   "source": [
    "dictionary_cream.update({'name':'Apurva', 'weekly intake': 3, 'favourite ice cream': ['Mint chocolate chip', 'coffee']})"
   ]
  },
  {
   "cell_type": "code",
   "execution_count": 28,
   "id": "38fd9324-1e8f-4035-8e64-f22efd64e284",
   "metadata": {},
   "outputs": [
    {
     "ename": "SyntaxError",
     "evalue": "invalid syntax (3658901287.py, line 1)",
     "output_type": "error",
     "traceback": [
      "\u001b[1;36m  Cell \u001b[1;32mIn[28], line 1\u001b[1;36m\u001b[0m\n\u001b[1;33m    dictionary_cream.update({'name':'Apurva', 'weekly intake': 3, 'favourite ice cream': ['Mint chocolate chip', 'coffee']}, 'weight':70)\u001b[0m\n\u001b[1;37m                                                                                                                                     ^\u001b[0m\n\u001b[1;31mSyntaxError\u001b[0m\u001b[1;31m:\u001b[0m invalid syntax\n"
     ]
    }
   ],
   "source": [
    "dictionary_cream.update({'name':'Apurva', 'weekly intake': 3, 'favourite ice cream': ['Mint chocolate chip', 'coffee']}, 'weight':70)"
   ]
  },
  {
   "cell_type": "code",
   "execution_count": 29,
   "id": "45b0b930-428e-4e37-b018-e13420c22b0d",
   "metadata": {},
   "outputs": [],
   "source": [
    "dictionary_cream.update({'name':'Apurva', 'weekly intake': 3, 'favourite ice cream': ['Mint chocolate chip', 'coffee'], 'weight':70})"
   ]
  },
  {
   "cell_type": "code",
   "execution_count": 30,
   "id": "e3130a4b-55a3-467d-8ed4-9a15497ea310",
   "metadata": {},
   "outputs": [
    {
     "name": "stdout",
     "output_type": "stream",
     "text": [
      "{'name': 'Apurva', 'weekly intake': 3, 'favourite ice cream': ['Mint chocolate chip', 'coffee'], 'weight': 70}\n"
     ]
    }
   ],
   "source": [
    "print(dictionary_cream)"
   ]
  },
  {
   "cell_type": "code",
   "execution_count": 31,
   "id": "7a2fe272-a792-45ba-8f81-f30f7d3f10b3",
   "metadata": {},
   "outputs": [],
   "source": [
    "dictionary_cream.update({'name':'Apurva', 'weekly intake': 3})"
   ]
  },
  {
   "cell_type": "code",
   "execution_count": 32,
   "id": "8a6741b8-e0cd-498e-ac35-5fc754f25a92",
   "metadata": {},
   "outputs": [],
   "source": [
    "del dictionary_cream['weekly intake']"
   ]
  },
  {
   "cell_type": "code",
   "execution_count": 33,
   "id": "b396a698-c2bf-4ab0-bf7d-fd89a6c00fe3",
   "metadata": {},
   "outputs": [
    {
     "name": "stdout",
     "output_type": "stream",
     "text": [
      "{'name': 'Apurva', 'favourite ice cream': ['Mint chocolate chip', 'coffee'], 'weight': 70}\n"
     ]
    }
   ],
   "source": [
    "print (dictionary_cream)"
   ]
  },
  {
   "cell_type": "code",
   "execution_count": 34,
   "id": "e05bf597-2225-45c5-a6ae-b5e98c1a4145",
   "metadata": {},
   "outputs": [
    {
     "name": "stdout",
     "output_type": "stream",
     "text": [
      "{'name': 'Apurva', 'favourite ice cream': ['Mint chocolate chip', 'coffee'], 'weight': 70, 'weekly intake': 3}\n"
     ]
    }
   ],
   "source": [
    "dictionary_cream.update({'name':'Apurva', 'weekly intake': 3})\n",
    "print (dictionary_cream)"
   ]
  },
  {
   "cell_type": "code",
   "execution_count": 35,
   "id": "9e83d4d9-cbac-4217-94f0-0df78a44b629",
   "metadata": {},
   "outputs": [
    {
     "name": "stdout",
     "output_type": "stream",
     "text": [
      "{'name': 'Apurva', 'favourite ice cream': ['Mint chocolate chip', 'coffee'], 'weight': 70}\n"
     ]
    }
   ],
   "source": [
    "del dictionary_cream['weekly intake']\n",
    "print (dictionary_cream)"
   ]
  },
  {
   "cell_type": "code",
   "execution_count": null,
   "id": "b925a133-cb88-473b-94e0-484633d753cf",
   "metadata": {},
   "outputs": [],
   "source": []
  }
 ],
 "metadata": {
  "kernelspec": {
   "display_name": "Python 3 (ipykernel)",
   "language": "python",
   "name": "python3"
  },
  "language_info": {
   "codemirror_mode": {
    "name": "ipython",
    "version": 3
   },
   "file_extension": ".py",
   "mimetype": "text/x-python",
   "name": "python",
   "nbconvert_exporter": "python",
   "pygments_lexer": "ipython3",
   "version": "3.12.7"
  }
 },
 "nbformat": 4,
 "nbformat_minor": 5
}
