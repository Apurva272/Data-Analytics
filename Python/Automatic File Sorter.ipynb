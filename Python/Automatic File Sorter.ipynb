{
 "cells": [
  {
   "cell_type": "markdown",
   "id": "14589034-ef0f-4d54-9032-a712902a5ab5",
   "metadata": {},
   "source": [
    "# Automatic File Sorter"
   ]
  },
  {
   "cell_type": "code",
   "execution_count": 19,
   "id": "952c3416-f752-4b16-ab75-50a6e2ed42ec",
   "metadata": {},
   "outputs": [
    {
     "name": "stdout",
     "output_type": "stream",
     "text": [
      "There are files in the path that were not moved!\n",
      "There are files in the path that were not moved!\n",
      "There are files in the path that were not moved!\n",
      "There are files in the path that were not moved!\n",
      "There are files in the path that were not moved!\n"
     ]
    }
   ],
   "source": [
    "import os,shutil #shutil is shell utilities as it allows to perform file related tasks as we might use in a unix shell, such as copying, moving,renaming and deleting file directories\n",
    "path = r\"C:/Users/apurvalnu/Desktop/Automatic File Sorting/\"\n",
    "file_name = os.listdir(path)\n",
    "folder_names = ['ppt files', 'image files', 'pdf files', 'email files']\n",
    "for loop in range(0,4):\n",
    "    if not os.path.exists(path+folder_names[loop]):\n",
    "        #print(path+folder_names[loop])\n",
    "        os.makedirs(path+folder_names[loop])\n",
    "\n",
    "for file in file_name:\n",
    "    if '.pptx' in file and not os.path.exists(path+'ppt files/'+ file):\n",
    "        shutil.move(path+file, path+'ppt files/'+file)\n",
    "    elif '.png' in file and not os.path.exists(path+'image files/'+file):\n",
    "        shutil.move(path+file,path+'image files/'+file)\n",
    "    elif '.pdf' in file and not os.path.exists(path+'pdf files/'+file):\n",
    "        shutil.move(path+file,path+'pdf files/'+file)\n",
    "    elif '.Outlook.File.msg.15' in file and not os.path.exists(path+'email files/'+file):\n",
    "        shutil.move(path+file,path+'email files/'+file)\n",
    "    else:\n",
    "        print(\"There are files in the path that were not moved!\")\n"
   ]
  },
  {
   "cell_type": "code",
   "execution_count": 16,
   "id": "1da091e9-448d-4aaf-8d71-bf0f2c2beb9d",
   "metadata": {},
   "outputs": [
    {
     "data": {
      "text/plain": [
       "False"
      ]
     },
     "execution_count": 16,
     "metadata": {},
     "output_type": "execute_result"
    }
   ],
   "source": [
    "os.path.exists(path +'png files')"
   ]
  },
  {
   "cell_type": "code",
   "execution_count": null,
   "id": "b4ff0d44-cc18-408a-b969-19219a866869",
   "metadata": {},
   "outputs": [],
   "source": []
  }
 ],
 "metadata": {
  "kernelspec": {
   "display_name": "Python 3 (ipykernel)",
   "language": "python",
   "name": "python3"
  },
  "language_info": {
   "codemirror_mode": {
    "name": "ipython",
    "version": 3
   },
   "file_extension": ".py",
   "mimetype": "text/x-python",
   "name": "python",
   "nbconvert_exporter": "python",
   "pygments_lexer": "ipython3",
   "version": "3.12.7"
  }
 },
 "nbformat": 4,
 "nbformat_minor": 5
}
