{
 "cells": [
  {
   "cell_type": "code",
   "execution_count": 1,
   "id": "f1671f88-18de-404f-a826-f713a1047237",
   "metadata": {},
   "outputs": [
    {
     "name": "stdout",
     "output_type": "stream",
     "text": [
      "It worked!\n"
     ]
    }
   ],
   "source": [
    "if 25>10:\n",
    "    print( 'It worked!')"
   ]
  },
  {
   "cell_type": "code",
   "execution_count": 2,
   "id": "9a970da5-3d9f-4fe4-b5b6-0eb4c0c2f61f",
   "metadata": {},
   "outputs": [],
   "source": [
    "if 25<10:\n",
    "    print( 'It worked!')"
   ]
  },
  {
   "cell_type": "code",
   "execution_count": 3,
   "id": "2d26cb84-cde6-4421-84a8-48fd0ba54383",
   "metadata": {},
   "outputs": [
    {
     "name": "stdout",
     "output_type": "stream",
     "text": [
      "It did not work\n"
     ]
    }
   ],
   "source": [
    "if 25<10:\n",
    "    print( 'It worked!')\n",
    "else:\n",
    "    print(\"It did not work\")"
   ]
  },
  {
   "cell_type": "code",
   "execution_count": 4,
   "id": "7838e10d-100e-41b1-b541-5f70a6eb6990",
   "metadata": {},
   "outputs": [
    {
     "name": "stdout",
     "output_type": "stream",
     "text": [
      "Elif worked\n"
     ]
    }
   ],
   "source": [
    "if 25<10:\n",
    "    print( 'It worked!')\n",
    "elif 25<30:\n",
    "    print ('Elif worked')\n",
    "else:\n",
    "    print(\"It did not work\")"
   ]
  },
  {
   "cell_type": "code",
   "execution_count": 5,
   "id": "5d2724e1-d81b-4664-b8a2-de40569e9313",
   "metadata": {},
   "outputs": [
    {
     "name": "stdout",
     "output_type": "stream",
     "text": [
      "else is the winner\n"
     ]
    }
   ],
   "source": [
    "if 25<10:\n",
    "    print( 'It worked!')\n",
    "elif 25<20:\n",
    "    print ('Elif worked')\n",
    "elif 25<21:\n",
    "    print(\"It did not work\")\n",
    "elif 25<22:\n",
    "    print(\"It did not work\")\n",
    "elif 25<23:\n",
    "    print(\"It did not work\")\n",
    "else:\n",
    "    print (\"else is the winner\")\n"
   ]
  },
  {
   "cell_type": "code",
   "execution_count": 6,
   "id": "a2799efd-68af-4aad-a218-489b859b69f7",
   "metadata": {},
   "outputs": [
    {
     "name": "stdout",
     "output_type": "stream",
     "text": [
      "Elif3 worked\n"
     ]
    }
   ],
   "source": [
    "if 25<10:\n",
    "    print( 'It worked!')\n",
    "elif 25<20:\n",
    "    print ('Elif worked')\n",
    "elif 25<21:\n",
    "    print(\"Elif2 worked\")\n",
    "elif 25<27:\n",
    "    print(\"Elif3 worked\")\n",
    "elif 25<26:\n",
    "    print(\"Elif4 worked\")\n",
    "else:\n",
    "    print (\"else is the winner\")"
   ]
  },
  {
   "cell_type": "code",
   "execution_count": 7,
   "id": "461bf821-c110-4045-ae98-8a286258e522",
   "metadata": {},
   "outputs": [
    {
     "name": "stdout",
     "output_type": "stream",
     "text": [
      "It worked!\n"
     ]
    }
   ],
   "source": [
    "if 25<10 or 1<3:\n",
    "    print( 'It worked!')\n",
    "elif 25<20:\n",
    "    print ('Elif worked')\n",
    "elif 25<21:\n",
    "    print(\"Elif2 worked\")\n",
    "elif 25<27:\n",
    "    print(\"Elif3 worked\")\n",
    "elif 25<26:\n",
    "    print(\"Elif4 worked\")\n",
    "else:\n",
    "    print (\"else is the winner\")"
   ]
  },
  {
   "cell_type": "code",
   "execution_count": 8,
   "id": "4081c72b-3cbc-4dc1-8c50-2e415c313265",
   "metadata": {},
   "outputs": [
    {
     "name": "stdout",
     "output_type": "stream",
     "text": [
      "no it did not work\n"
     ]
    }
   ],
   "source": [
    "print(\"it worked\") if 25>50 else print (\"no it did not work\")"
   ]
  },
  {
   "cell_type": "code",
   "execution_count": null,
   "id": "045b769c-338e-4d5e-91dc-8bb589932bba",
   "metadata": {},
   "outputs": [],
   "source": []
  }
 ],
 "metadata": {
  "kernelspec": {
   "display_name": "Python 3 (ipykernel)",
   "language": "python",
   "name": "python3"
  },
  "language_info": {
   "codemirror_mode": {
    "name": "ipython",
    "version": 3
   },
   "file_extension": ".py",
   "mimetype": "text/x-python",
   "name": "python",
   "nbconvert_exporter": "python",
   "pygments_lexer": "ipython3",
   "version": "3.12.7"
  }
 },
 "nbformat": 4,
 "nbformat_minor": 5
}
