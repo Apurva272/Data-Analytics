{
 "cells": [
  {
   "cell_type": "markdown",
   "id": "8302bee5-6478-4591-8879-ee9a2c4596c0",
   "metadata": {},
   "source": [
    "# BMI Calculator"
   ]
  },
  {
   "cell_type": "code",
   "execution_count": null,
   "id": "7090caf6-50f2-4bc5-b85f-558a8e87a234",
   "metadata": {},
   "outputs": [],
   "source": [
    "#BMI = (weight in pounds x 703)/(height in inches x height in inches)"
   ]
  },
  {
   "cell_type": "code",
   "execution_count": null,
   "id": "188a6bdd-3ecf-4f4e-8ac4-414a4f49fee5",
   "metadata": {},
   "outputs": [
    {
     "name": "stdin",
     "output_type": "stream",
     "text": [
      "Enter your name Krishna\n",
      "Enter your weight in pounds:  158\n"
     ]
    }
   ],
   "source": [
    "name = input(\"Enter your name\")\n",
    "weight = int(input(\"Enter your weight in pounds: \"))\n",
    "height  = int(input(\"Enter your heights in inches: \"))\n",
    "BMI = (weight*703)/(height*height)\n",
    "print(BMI)\n",
    "if BMI>0:\n",
    "    if(BMI< 18.5):\n",
    "        print(name +\" You are underweight\")\n",
    "    elif (BMI <= 24.9):\n",
    "        print(name+\" You are normal weight\")\n",
    "    elif( BMI <= 29.9):\n",
    "        print(name+\" You are over weight\")\n",
    "    elif (BMI <= 34.9):\n",
    "        print(name+\" You are obese\")\n",
    "    elif (BMI <=39.9):\n",
    "        print(name+\" You are severely obese\")\n",
    "    elif (BMI>=40):\n",
    "        print (name+\" You are morbidly obese with extremely high risk of heart disease and diabetes\")\n",
    "    else:\n",
    "        print(\"Enter valid inputs\")"
   ]
  },
  {
   "cell_type": "code",
   "execution_count": 8,
   "id": "63892561-0b1d-43f7-ac13-de0a5c9d7852",
   "metadata": {},
   "outputs": [
    {
     "name": "stdout",
     "output_type": "stream",
     "text": [
      "You are over wight\n"
     ]
    }
   ],
   "source": [
    "if BMI>0:\n",
    "    if(BMI< 18.5):\n",
    "        print(name +\"You are underweight\")\n",
    "    elif (BMI <= 24.9):\n",
    "        print(name+\"You are normal weight\")\n",
    "    elif( BMI <= 29.9):\n",
    "        print(name+\"You are over weight\")\n",
    "    elif (BMI <= 34.9):\n",
    "        print(name+\"You are obese\")\n",
    "    elif (BMI <=39.9):\n",
    "        print(name+\"You are severely obese\")\n",
    "    elif (BMI>=40):\n",
    "        print (name+\"You are morbidly obese with extremely high risk of heart disease and diabetes\")\n",
    "    else:\n",
    "        print(\"Enter valid inputs\")"
   ]
  },
  {
   "cell_type": "code",
   "execution_count": 1,
   "id": "ecb5922f-fef2-4fe6-b8f8-3905dd17a60e",
   "metadata": {},
   "outputs": [
    {
     "name": "stdin",
     "output_type": "stream",
     "text": [
      "Enter your name Apurva\n",
      "Enter your weight in kgs 70\n",
      "Enter your height in feet 5.4\n"
     ]
    },
    {
     "name": "stdout",
     "output_type": "stream",
     "text": [
      "25.836703198826388\n"
     ]
    }
   ],
   "source": [
    "name = input(\"Enter your name\")\n",
    "weight = float(input(\"Enter your weight in kgs\"))\n",
    "height = float (input(\"Enter your height in feet\"))\n",
    "w1 = weight*2.20462\n",
    "h1 = height*12\n",
    "BMI = (w1*703)/(h1*h1)\n",
    "print (BMI)"
   ]
  },
  {
   "cell_type": "code",
   "execution_count": 2,
   "id": "886eba10-4762-442a-a04e-5243b6c22b61",
   "metadata": {},
   "outputs": [
    {
     "name": "stdout",
     "output_type": "stream",
     "text": [
      "ApurvaYou are over weight\n"
     ]
    }
   ],
   "source": [
    "if BMI>0:\n",
    "    if(BMI< 18.5):\n",
    "        print(name +\"You are underweight\")\n",
    "    elif (BMI <= 24.9):\n",
    "        print(name+\"You are normal weight\")\n",
    "    elif( BMI <= 29.9):\n",
    "        print(name+\"You are over weight\")\n",
    "    elif (BMI <= 34.9):\n",
    "        print(name+\"You are obese\")\n",
    "    elif (BMI <=39.9):\n",
    "        print(name+\"You are severely obese\")\n",
    "    elif (BMI>=40):\n",
    "        print (name+\"You are morbidly obese with extremely high risk of heart disease and diabetes\")\n",
    "    else:\n",
    "        print(\"Enter valid inputs\")"
   ]
  },
  {
   "cell_type": "code",
   "execution_count": null,
   "id": "844716ea-ee36-43a6-849a-5d950cf8c210",
   "metadata": {},
   "outputs": [],
   "source": []
  }
 ],
 "metadata": {
  "kernelspec": {
   "display_name": "Python 3 (ipykernel)",
   "language": "python",
   "name": "python3"
  },
  "language_info": {
   "codemirror_mode": {
    "name": "ipython",
    "version": 3
   },
   "file_extension": ".py",
   "mimetype": "text/x-python",
   "name": "python",
   "nbconvert_exporter": "python",
   "pygments_lexer": "ipython3",
   "version": "3.12.7"
  }
 },
 "nbformat": 4,
 "nbformat_minor": 5
}
