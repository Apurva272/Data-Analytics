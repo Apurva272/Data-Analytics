{
 "cells": [
  {
   "cell_type": "code",
   "execution_count": 1,
   "id": "9d89fbe9-7264-4071-ae96-5f6000cecd5a",
   "metadata": {},
   "outputs": [],
   "source": [
    "integers = [1,2,3,4,5]"
   ]
  },
  {
   "cell_type": "code",
   "execution_count": 2,
   "id": "d4483a2d-0373-4fa1-bb35-f859fc6f6027",
   "metadata": {},
   "outputs": [
    {
     "name": "stdout",
     "output_type": "stream",
     "text": [
      "1\n",
      "2\n",
      "3\n",
      "4\n",
      "5\n"
     ]
    }
   ],
   "source": [
    "for i in integers:\n",
    "    print (i)"
   ]
  },
  {
   "cell_type": "code",
   "execution_count": 3,
   "id": "4d37448b-f024-4349-b777-e5efa6e14ee4",
   "metadata": {},
   "outputs": [
    {
     "name": "stdout",
     "output_type": "stream",
     "text": [
      "*\n",
      "*\n",
      "*\n",
      "*\n",
      "*\n"
     ]
    }
   ],
   "source": [
    "for i in integers:\n",
    "    print('*')"
   ]
  },
  {
   "cell_type": "code",
   "execution_count": 4,
   "id": "bef75bf5-2ed3-446e-a24c-9d86d48e72da",
   "metadata": {},
   "outputs": [
    {
     "name": "stdout",
     "output_type": "stream",
     "text": [
      "2\n",
      "4\n",
      "6\n",
      "8\n",
      "10\n"
     ]
    }
   ],
   "source": [
    "for i in integers:\n",
    "    print (i+i)"
   ]
  },
  {
   "cell_type": "code",
   "execution_count": 5,
   "id": "d1bac0da-7f1b-448f-b31a-0e0f08b546a5",
   "metadata": {},
   "outputs": [],
   "source": [
    "#using for loop in dictionary\n",
    "ice_cream_dict = {'name':'Apurva', 'weekly intake':5,'favorite ice creams': ['MCC','Chocolate']}"
   ]
  },
  {
   "cell_type": "code",
   "execution_count": 6,
   "id": "7c96cd79-fc84-4427-9cac-0c1edc8b4567",
   "metadata": {},
   "outputs": [
    {
     "name": "stdout",
     "output_type": "stream",
     "text": [
      "Apurva\n",
      "5\n",
      "['MCC', 'Chocolate']\n"
     ]
    }
   ],
   "source": [
    "for cream in ice_cream_dict.values():\n",
    "    print(cream)"
   ]
  },
  {
   "cell_type": "code",
   "execution_count": 8,
   "id": "875e2362-e657-4ec6-9d27-569bef1f3830",
   "metadata": {},
   "outputs": [
    {
     "name": "stdout",
     "output_type": "stream",
     "text": [
      "name -> Apurva\n",
      "weekly intake -> 5\n",
      "favorite ice creams -> ['MCC', 'Chocolate']\n"
     ]
    }
   ],
   "source": [
    "for key,value in ice_cream_dict.items():\n",
    "    print(key,'->', value)"
   ]
  },
  {
   "cell_type": "markdown",
   "id": "63b1de56-21b4-459e-b5b4-c940c444b0e1",
   "metadata": {},
   "source": [
    "# Nested for loops"
   ]
  },
  {
   "cell_type": "code",
   "execution_count": null,
   "id": "ad18629d-d816-4fb4-b4c2-05be1aa95104",
   "metadata": {},
   "outputs": [],
   "source": [
    "flavors = ['Vanilla', 'Chocolate', 'Cookie Dough']\n",
    "toppings = ['Hot fudge', 'Oreos', 'Marshmallows']\n"
   ]
  },
  {
   "cell_type": "code",
   "execution_count": 9,
   "id": "ae727034-0eb3-442c-bb51-e70ba28bb7b6",
   "metadata": {},
   "outputs": [
    {
     "ename": "NameError",
     "evalue": "name 'flavors' is not defined",
     "output_type": "error",
     "traceback": [
      "\u001b[1;31m---------------------------------------------------------------------------\u001b[0m",
      "\u001b[1;31mNameError\u001b[0m                                 Traceback (most recent call last)",
      "Cell \u001b[1;32mIn[9], line 1\u001b[0m\n\u001b[1;32m----> 1\u001b[0m \u001b[38;5;28;01mfor\u001b[39;00m i \u001b[38;5;129;01min\u001b[39;00m flavors:\n\u001b[0;32m      2\u001b[0m     \u001b[38;5;28;01mfor\u001b[39;00m j \u001b[38;5;129;01min\u001b[39;00m toppings:\n\u001b[0;32m      3\u001b[0m         \u001b[38;5;28mprint\u001b[39m (i, \u001b[38;5;124m'\u001b[39m\u001b[38;5;124mtopped with\u001b[39m\u001b[38;5;124m'\u001b[39m, j)\n",
      "\u001b[1;31mNameError\u001b[0m: name 'flavors' is not defined"
     ]
    }
   ],
   "source": [
    "for i in flavors:\n",
    "    for j in toppings:\n",
    "        print (i, 'topped with', j)"
   ]
  },
  {
   "cell_type": "code",
   "execution_count": 10,
   "id": "23a957ee-eaf8-408c-8f77-b7c1eb18efd1",
   "metadata": {},
   "outputs": [],
   "source": [
    "flavors = ['Vanilla', 'Chocolate', 'Cookie Dough']\n",
    "toppings = ['Hot fudge', 'Oreos', 'Marshmallows']"
   ]
  },
  {
   "cell_type": "code",
   "execution_count": 11,
   "id": "6e188e13-9d68-4b67-a584-5d616c4c1fa8",
   "metadata": {},
   "outputs": [
    {
     "name": "stdout",
     "output_type": "stream",
     "text": [
      "Vanilla topped with Hot fudge\n",
      "Vanilla topped with Oreos\n",
      "Vanilla topped with Marshmallows\n",
      "Chocolate topped with Hot fudge\n",
      "Chocolate topped with Oreos\n",
      "Chocolate topped with Marshmallows\n",
      "Cookie Dough topped with Hot fudge\n",
      "Cookie Dough topped with Oreos\n",
      "Cookie Dough topped with Marshmallows\n"
     ]
    }
   ],
   "source": [
    "for i in flavors:\n",
    "    for j in toppings:\n",
    "        print (i, 'topped with', j)"
   ]
  },
  {
   "cell_type": "markdown",
   "id": "756bdbcc-863b-4164-bcfe-e41a5decde10",
   "metadata": {},
   "source": [
    "# While loops"
   ]
  },
  {
   "cell_type": "code",
   "execution_count": null,
   "id": "75f9ee42-6915-4a39-85c7-ce835f236ccc",
   "metadata": {},
   "outputs": [],
   "source": [
    "#difference between for loop and while loop\n",
    "#for loop will iterate over a sequence regardless of a condition\n",
    "#while loop will iterate over a sequence only as long as a condition is valid"
   ]
  },
  {
   "cell_type": "code",
   "execution_count": 12,
   "id": "423cdae8-0c72-4179-a0cf-6a01755f1a00",
   "metadata": {},
   "outputs": [
    {
     "name": "stdout",
     "output_type": "stream",
     "text": [
      "0\n",
      "1\n",
      "2\n",
      "3\n",
      "4\n"
     ]
    }
   ],
   "source": [
    "number = 0\n",
    "while number <5:\n",
    "    print (number)\n",
    "    number = number+1"
   ]
  },
  {
   "cell_type": "code",
   "execution_count": 13,
   "id": "6e721a0b-7aca-40f8-b085-50f3cc662f7d",
   "metadata": {},
   "outputs": [
    {
     "name": "stdout",
     "output_type": "stream",
     "text": [
      "0\n",
      "1\n",
      "2\n",
      "3\n"
     ]
    }
   ],
   "source": [
    "number = 0\n",
    "while number <5:\n",
    "    print (number)\n",
    "    if number == 3:\n",
    "        break\n",
    "    number = number+1"
   ]
  },
  {
   "cell_type": "code",
   "execution_count": null,
   "id": "0a667cb2-aab2-4d18-8299-bf7a43447664",
   "metadata": {},
   "outputs": [],
   "source": [
    "number = 0\n",
    "while number <5:\n",
    "    print (number)\n",
    "    if number == 6:\n",
    "        break\n",
    "    number = number+1\n",
    "else:\n",
    "    print ('No lobger "
   ]
  },
  {
   "cell_type": "code",
   "execution_count": null,
   "id": "b7dfbb4e-784f-476e-8bea-3c91e09a7b17",
   "metadata": {},
   "outputs": [],
   "source": []
  },
  {
   "cell_type": "code",
   "execution_count": null,
   "id": "18aae823-12ca-413a-85c0-a9d033971dfd",
   "metadata": {},
   "outputs": [],
   "source": []
  }
 ],
 "metadata": {
  "kernelspec": {
   "display_name": "Python 3 (ipykernel)",
   "language": "python",
   "name": "python3"
  },
  "language_info": {
   "codemirror_mode": {
    "name": "ipython",
    "version": 3
   },
   "file_extension": ".py",
   "mimetype": "text/x-python",
   "name": "python",
   "nbconvert_exporter": "python",
   "pygments_lexer": "ipython3",
   "version": "3.12.7"
  }
 },
 "nbformat": 4,
 "nbformat_minor": 5
}
